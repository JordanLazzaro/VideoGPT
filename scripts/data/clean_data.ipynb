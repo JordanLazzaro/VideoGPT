{
 "cells": [
  {
   "cell_type": "code",
   "execution_count": 1,
   "metadata": {},
   "outputs": [],
   "source": [
    "import os\n",
    "import sys\n",
    "import shutil\n",
    "from pathlib import Path\n",
    "import argparse\n",
    "import subprocess\n",
    "from pathlib import Path\n",
    "from concurrent.futures import ThreadPoolExecutor, as_completed"
   ]
  },
  {
   "cell_type": "code",
   "execution_count": 2,
   "metadata": {},
   "outputs": [
    {
     "name": "stdout",
     "output_type": "stream",
     "text": [
      "/teamspace/studios/this_studio/VideoGen\n"
     ]
    }
   ],
   "source": [
    "%cd VideoGen/"
   ]
  },
  {
   "cell_type": "code",
   "execution_count": 3,
   "metadata": {},
   "outputs": [
    {
     "name": "stdout",
     "output_type": "stream",
     "text": [
      "/teamspace/studios/this_studio/VideoGen\n"
     ]
    }
   ],
   "source": [
    "!pwd"
   ]
  },
  {
   "cell_type": "code",
   "execution_count": null,
   "metadata": {},
   "outputs": [],
   "source": [
    "!ffmpeg -i \"data/03_old_cartoons_cropped/Whys_And_Other_Whys_(1927)_cropped.mp4\" -vf \"\\\n",
    "format=gray,\\\n",
    "eq=contrast=1.6:brightness=-0.08,\\\n",
    "unsharp=5:5:2.5\" -c:a copy \"data/03_old_cartoons_cropped/Whys_And_Other_Whys_(1927)_cropped_contrast_adj.mp4\""
   ]
  },
  {
   "cell_type": "code",
   "execution_count": null,
   "metadata": {},
   "outputs": [],
   "source": [
    "!ffmpeg \\\n",
    "    -i \\\n",
    "    \"data/03_old_cartoons_cropped/Hold_Anything_(1930)_cropped.mp4\" \\\n",
    "    -vf \\\n",
    "    \"cas=strength=0.5\" \\\n",
    "    -c:a \\\n",
    "    copy \\\n",
    "    \"data/03_old_cartoons_cropped/Hold_Anything_(1930)_cropped_enhanced.mp4\""
   ]
  },
  {
   "cell_type": "code",
   "execution_count": null,
   "metadata": {},
   "outputs": [],
   "source": [
    "!ffmpeg -ss <middle_point> -i \"data/02_old_cartoons_mp4/Lets_Sing_With_Popeye_(1934).mp4\" -vf cropdetect -f null -t <analyze_duration> -"
   ]
  },
  {
   "cell_type": "code",
   "execution_count": 4,
   "metadata": {},
   "outputs": [],
   "source": [
    "def organize_mp4_files(source_dir):\n",
    "    # Create mp4_files directory if it doesn't exist\n",
    "    target_dir = Path(source_dir) / \"data/02_old_cartoons_mp4\"\n",
    "    \n",
    "    # Get all files in the source directory\n",
    "    files = os.listdir(f\"{source_dir}/data/01_old_cartoons_raw\")\n",
    "    \n",
    "    # Get all mp4 files\n",
    "    mp4_files = [f for f in files if f.endswith('.mp4')]\n",
    "    \n",
    "    for mp4_file in mp4_files:\n",
    "        source_path = Path(f\"{source_dir}/data/01_old_cartoons_raw\") / mp4_file\n",
    "        base_name = mp4_file.removesuffix('.mp4')  # Remove .mp4 extension\n",
    "        \n",
    "        # Check for files with same name but different extensions\n",
    "        similar_files = [\n",
    "            f for f in files \n",
    "            if f.startswith(base_name + '.') \n",
    "            and f != mp4_file\n",
    "        ]\n",
    "        \n",
    "        # If there are similar files or it's a single mp4, process it\n",
    "        if similar_files or len([f for f in files if f.startswith(base_name + '.')]) == 1:\n",
    "            target_path = target_dir / mp4_file\n",
    "            shutil.copy2(source_path, target_path)\n",
    "            print(f\"Processed: {mp4_file}\")"
   ]
  },
  {
   "cell_type": "code",
   "execution_count": null,
   "metadata": {},
   "outputs": [],
   "source": [
    "current_dir = os.getcwd()\n",
    "organize_mp4_files(current_dir)"
   ]
  },
  {
   "cell_type": "code",
   "execution_count": 4,
   "metadata": {},
   "outputs": [],
   "source": [
    "def convert_to_mp4(input_file, output_dir):\n",
    "    \"\"\"Convert a video file to MP4 format.\"\"\"\n",
    "    try:\n",
    "        command = [\n",
    "            'ffmpeg',\n",
    "            '-i', str(input_file),\n",
    "            '-c:v', 'libx264',\n",
    "            '-c:a', 'aac',\n",
    "            '-y',\n",
    "            str(output_dir)\n",
    "        ]\n",
    "        \n",
    "        process = subprocess.run(\n",
    "            command,\n",
    "            stdout=subprocess.PIPE,\n",
    "            stderr=subprocess.PIPE,\n",
    "            text=True\n",
    "        )\n",
    "        return process.returncode == 0\n",
    "    except Exception as e:\n",
    "        print(f\"Error converting {input_file}: {str(e)}\")\n",
    "        return False"
   ]
  },
  {
   "cell_type": "code",
   "execution_count": 5,
   "metadata": {},
   "outputs": [],
   "source": [
    "def detect_black_bars(input_file, analyze_duration=10):\n",
    "    # First get video duration\n",
    "    duration_cmd = [\n",
    "        'ffprobe',\n",
    "        '-v', 'quiet',\n",
    "        '-show_entries', 'format=duration',\n",
    "        '-of', 'default=noprint_wrappers=1:nokey=1',\n",
    "        str(input_file)\n",
    "    ]\n",
    "    duration = float(subprocess.check_output(duration_cmd).decode().strip())\n",
    "    \n",
    "    # Calculate middle point\n",
    "    middle_point = max(0, (duration / 2) - (analyze_duration / 2))\n",
    "    \n",
    "    # Modified detection command to start from middle\n",
    "    detect_command = [\n",
    "        'ffmpeg',\n",
    "        '-ss', str(middle_point),  # Seek to middle of video\n",
    "        '-i', str(input_file),\n",
    "        '-vf', 'cropdetect',\n",
    "        '-f', 'null',\n",
    "        '-t', str(analyze_duration),  # Analyze for specified duration\n",
    "        '-'\n",
    "    ]\n",
    "\n",
    "    process = subprocess.run(\n",
    "        detect_command,\n",
    "        stderr=subprocess.PIPE,\n",
    "        text=True\n",
    "    )\n",
    "\n",
    "    crop_lines = [line for line in process.stderr.split('\\n') if 'crop=' in line]\n",
    "    crop_params = crop_lines[-1].split('crop=')[1].split(' ')[0]\n",
    "    \n",
    "    return crop_params"
   ]
  },
  {
   "cell_type": "code",
   "execution_count": 6,
   "metadata": {},
   "outputs": [],
   "source": [
    "def remove_black_bars(input_path, output_path, crop_params):\n",
    "    \"\"\"Remove black bars using detected crop parameters\"\"\"\n",
    "    cmd = [\n",
    "        'ffmpeg',\n",
    "        '-i', str(input_path),\n",
    "        '-vf', f'crop={crop_params}',\n",
    "        '-c:a', 'copy',\n",
    "        str(output_path)\n",
    "    ]\n",
    "    try:\n",
    "        subprocess.run(cmd, check=True, capture_output=True)\n",
    "    except subprocess.CalledProcessError as e:\n",
    "        logging.error(f\"Cropping failed for {input_path}: {e}\")"
   ]
  },
  {
   "cell_type": "code",
   "execution_count": 10,
   "metadata": {},
   "outputs": [],
   "source": [
    "def process_video(input_file):\n",
    "    \"\"\"Process a single video file. Returns (input_file, output_file, task_type, success).\"\"\"\n",
    "    try:\n",
    "        print(f\"Processing: {input_file.name}\")\n",
    "        \n",
    "        # Convert to MP4 if needed\n",
    "        if input_file.suffix.lower() != '.mp4':\n",
    "            output_file_mp4 = f\"{os.getcwd()}/data/02_old_cartoons_mp4/{input_file.name.split('.')[0]}.mp4\"\n",
    "            convert_to_mp4(input_file, output_file_mp4)\n",
    "\n",
    "        # Remove black bars\n",
    "        # output_file_cropped = f\"{os.getcwd()}/data/03_old_cartoons_cropped/{input_file.name.split('.')[0]}_cropped.mp4\"\n",
    "        # crop_params = detect_black_bars(input_file=input_file)\n",
    "        # if crop_params:\n",
    "        #     remove_black_bars(input_file, output_file_cropped, crop_params)\n",
    "        # else:\n",
    "        #     shutil.copy(input_file.name, output_file_cropped)\n",
    "\n",
    "    except Exception as e:\n",
    "        print(f\"Error processing {input_file}: {str(e)}\")"
   ]
  },
  {
   "cell_type": "code",
   "execution_count": 11,
   "metadata": {},
   "outputs": [
    {
     "name": "stdout",
     "output_type": "stream",
     "text": [
      "Processing: The_Mad_Doctor_(1933).webm\n"
     ]
    }
   ],
   "source": [
    "process_video(Path(\"data/01_old_cartoons_raw/The_Mad_Doctor_(1933).webm\"))"
   ]
  },
  {
   "cell_type": "code",
   "execution_count": 102,
   "metadata": {},
   "outputs": [],
   "source": [
    "dir_path = Path(f\"{os.getcwd()}/data/02_old_cartoons_mp4\")\n",
    "if not dir_path.is_dir():\n",
    "    print(f\"Error: Directory '{dir_path}' does not exist\")\n",
    "    sys.exit(1)\n",
    "\n",
    "# Prepare tasks\n",
    "# video_extensions = {'.ogv', '.mkv', '.mov', '.wmv', '.flv', '.webm'}\n",
    "video_extensions = {\".mp4\"}\n",
    "tasks = []\n",
    "\n",
    "# Add conversion tasks\n",
    "for file_path in dir_path.iterdir():\n",
    "    if file_path.suffix.lower() in video_extensions:\n",
    "        tasks.append({'input_file': file_path})"
   ]
  },
  {
   "cell_type": "code",
   "execution_count": 103,
   "metadata": {},
   "outputs": [
    {
     "name": "stdout",
     "output_type": "stream",
     "text": [
      "[{'input_file': PosixPath('/teamspace/studios/this_studio/VideoGen/data/02_old_cartoons_mp4/A_Date_To_Skate_(1938).mp4')}, {'input_file': PosixPath('/teamspace/studios/this_studio/VideoGen/data/02_old_cartoons_mp4/Africa_Before_Dark_(1928).mp4')}, {'input_file': PosixPath('/teamspace/studios/this_studio/VideoGen/data/02_old_cartoons_mp4/Alice_Gets_Stung_(1925).mp4')}, {'input_file': PosixPath('/teamspace/studios/this_studio/VideoGen/data/02_old_cartoons_mp4/Alice_Solves_the_Puzzle_(1925).mp4')}, {'input_file': PosixPath('/teamspace/studios/this_studio/VideoGen/data/02_old_cartoons_mp4/Alice_the_Toreador_(1925).mp4')}, {'input_file': PosixPath('/teamspace/studios/this_studio/VideoGen/data/02_old_cartoons_mp4/Alices_Orphan_(1926).mp4')}, {'input_file': PosixPath('/teamspace/studios/this_studio/VideoGen/data/02_old_cartoons_mp4/All_Wet_(1927).mp4')}, {'input_file': PosixPath('/teamspace/studios/this_studio/VideoGen/data/02_old_cartoons_mp4/Battling_Bosko_(1931).mp4')}, {'input_file': PosixPath('/teamspace/studios/this_studio/VideoGen/data/02_old_cartoons_mp4/Bosko_At_The_Zoo_(1932).mp4')}, {'input_file': PosixPath('/teamspace/studios/this_studio/VideoGen/data/02_old_cartoons_mp4/Bosko_the_Doughboy_(1931).mp4')}, {'input_file': PosixPath('/teamspace/studios/this_studio/VideoGen/data/02_old_cartoons_mp4/Bright_Lights_(1928).mp4')}, {'input_file': PosixPath('/teamspace/studios/this_studio/VideoGen/data/02_old_cartoons_mp4/Crosby_Columbo_and_Vallee_(1932).mp4')}, {'input_file': PosixPath('/teamspace/studios/this_studio/VideoGen/data/02_old_cartoons_mp4/Empty_Socks_(1927).mp4')}, {'input_file': PosixPath('/teamspace/studios/this_studio/VideoGen/data/02_old_cartoons_mp4/Eskimotive_(1928).mp4')}, {'input_file': PosixPath('/teamspace/studios/this_studio/VideoGen/data/02_old_cartoons_mp4/Farm_Relief_(1929).mp4')}, {'input_file': PosixPath('/teamspace/studios/this_studio/VideoGen/data/02_old_cartoons_mp4/Felix_In_Hollywood_(1923).mp4')}, {'input_file': PosixPath('/teamspace/studios/this_studio/VideoGen/data/02_old_cartoons_mp4/Felix_The_Cat_and_the_Kit_(1927).mp4')}, {'input_file': PosixPath('/teamspace/studios/this_studio/VideoGen/data/02_old_cartoons_mp4/Felix_the_Cat_Trifles_with_Time_(1925).mp4')}, {'input_file': PosixPath('/teamspace/studios/this_studio/VideoGen/data/02_old_cartoons_mp4/Freddy_the_Freshman_(1932).mp4')}, {'input_file': PosixPath('/teamspace/studios/this_studio/VideoGen/data/02_old_cartoons_mp4/Poor_Papa_(1928).mp4')}, {'input_file': PosixPath('/teamspace/studios/this_studio/VideoGen/data/02_old_cartoons_mp4/Sick_Cylinders_(1929).mp4')}, {'input_file': PosixPath('/teamspace/studios/this_studio/VideoGen/data/02_old_cartoons_mp4/Hittin_The_Trail_For_Hallelujah_Land_(1931).mp4')}, {'input_file': PosixPath('/teamspace/studios/this_studio/VideoGen/data/02_old_cartoons_mp4/The_Karnival_Kid_(1929).mp4')}, {'input_file': PosixPath('/teamspace/studios/this_studio/VideoGen/data/02_old_cartoons_mp4/Oh_Teacher_(1927).mp4')}, {'input_file': PosixPath('/teamspace/studios/this_studio/VideoGen/data/02_old_cartoons_mp4/Haunted_House_Mickey_Mouse_(1929).mp4')}, {'input_file': PosixPath('/teamspace/studios/this_studio/VideoGen/data/02_old_cartoons_mp4/I_Never_Changes_My_Altitude_(1937).mp4')}, {'input_file': PosixPath('/teamspace/studios/this_studio/VideoGen/data/02_old_cartoons_mp4/Sky_Scrappers_(1928).mp4')}, {'input_file': PosixPath('/teamspace/studios/this_studio/VideoGen/data/02_old_cartoons_mp4/The_Fox_Chase_(1928).mp4')}, {'input_file': PosixPath('/teamspace/studios/this_studio/VideoGen/data/02_old_cartoons_mp4/Puss_In_Boots_(1922).mp4')}, {'input_file': PosixPath('/teamspace/studios/this_studio/VideoGen/data/02_old_cartoons_mp4/The_Mechanical_Cow_(1927).mp4')}, {'input_file': PosixPath('/teamspace/studios/this_studio/VideoGen/data/02_old_cartoons_mp4/Trolley_Troubles_(1927).mp4')}, {'input_file': PosixPath('/teamspace/studios/this_studio/VideoGen/data/02_old_cartoons_mp4/Rival_Romeos_(1928).mp4')}, {'input_file': PosixPath('/teamspace/studios/this_studio/VideoGen/data/02_old_cartoons_mp4/Race_Riot_(1929).mp4')}, {'input_file': PosixPath('/teamspace/studios/this_studio/VideoGen/data/02_old_cartoons_mp4/Its_Got_Me_Again_(1932).mp4')}, {'input_file': PosixPath('/teamspace/studios/this_studio/VideoGen/data/02_old_cartoons_mp4/Springtime_(1929).mp4')}, {'input_file': PosixPath('/teamspace/studios/this_studio/VideoGen/data/02_old_cartoons_mp4/Haunted_Mouse_(1941).mp4')}, {'input_file': PosixPath('/teamspace/studios/this_studio/VideoGen/data/02_old_cartoons_mp4/Little_Swee_Pea_(1936).mp4')}, {'input_file': PosixPath('/teamspace/studios/this_studio/VideoGen/data/02_old_cartoons_mp4/Ozzie_Of_The_Mounted_(1928).mp4')}, {'input_file': PosixPath('/teamspace/studios/this_studio/VideoGen/data/02_old_cartoons_mp4/The_Mad_Doctor_(1933).mp4')}, {'input_file': PosixPath('/teamspace/studios/this_studio/VideoGen/data/02_old_cartoons_mp4/Whys_And_Other_Whys_(1927).mp4')}, {'input_file': PosixPath('/teamspace/studios/this_studio/VideoGen/data/02_old_cartoons_mp4/Great_Guns_(1927).mp4')}, {'input_file': PosixPath('/teamspace/studios/this_studio/VideoGen/data/02_old_cartoons_mp4/The_Non_Stop_Fright_(1927).mp4')}, {'input_file': PosixPath('/teamspace/studios/this_studio/VideoGen/data/02_old_cartoons_mp4/Sinkin_in_the_Bathtub_(1930).mp4')}, {'input_file': PosixPath('/teamspace/studios/this_studio/VideoGen/data/02_old_cartoons_mp4/The_Jazz_Fool_(1929).mp4')}, {'input_file': PosixPath('/teamspace/studios/this_studio/VideoGen/data/02_old_cartoons_mp4/The_Booze_Hangs_High_(1930).mp4')}, {'input_file': PosixPath(\"/teamspace/studios/this_studio/VideoGen/data/02_old_cartoons_mp4/The_Gallopin'_Gaucho_(1928).mp4\")}, {'input_file': PosixPath('/teamspace/studios/this_studio/VideoGen/data/02_old_cartoons_mp4/Goopy_Geer_(1932).mp4')}, {'input_file': PosixPath('/teamspace/studios/this_studio/VideoGen/data/02_old_cartoons_mp4/You_Dont_Know_What_Youre_Doin_(1931).mp4')}, {'input_file': PosixPath('/teamspace/studios/this_studio/VideoGen/data/02_old_cartoons_mp4/On_Strike_(1920).mp4')}, {'input_file': PosixPath('/teamspace/studios/this_studio/VideoGen/data/02_old_cartoons_mp4/Hold_Anything_(1930).mp4')}, {'input_file': PosixPath('/teamspace/studios/this_studio/VideoGen/data/02_old_cartoons_mp4/The_Ocean_Hop_(1927).mp4')}, {'input_file': PosixPath('/teamspace/studios/this_studio/VideoGen/data/02_old_cartoons_mp4/Im_In_The_Army_Now_(1936).mp4')}, {'input_file': PosixPath('/teamspace/studios/this_studio/VideoGen/data/02_old_cartoons_mp4/The_Skeleton_Dance_(1929).mp4')}, {'input_file': PosixPath('/teamspace/studios/this_studio/VideoGen/data/02_old_cartoons_mp4/Swing_You_Sinners!_(1930).mp4')}, {'input_file': PosixPath('/teamspace/studios/this_studio/VideoGen/data/02_old_cartoons_mp4/Port_Whines_(1929).mp4')}, {'input_file': PosixPath('/teamspace/studios/this_studio/VideoGen/data/02_old_cartoons_mp4/Plane_Crazy_(1928).mp4')}, {'input_file': PosixPath('/teamspace/studios/this_studio/VideoGen/data/02_old_cartoons_mp4/Tall_Timber_(1928).mp4')}, {'input_file': PosixPath('/teamspace/studios/this_studio/VideoGen/data/02_old_cartoons_mp4/Pagan_Moon_(1932).mp4')}, {'input_file': PosixPath('/teamspace/studios/this_studio/VideoGen/data/02_old_cartoons_mp4/The_Opry_House_(1929).mp4')}, {'input_file': PosixPath('/teamspace/studios/this_studio/VideoGen/data/02_old_cartoons_mp4/Lets_Sing_With_Popeye_(1934).mp4')}, {'input_file': PosixPath('/teamspace/studios/this_studio/VideoGen/data/02_old_cartoons_mp4/Hungry_Hoboes_(1928).mp4')}, {'input_file': PosixPath('/teamspace/studios/this_studio/VideoGen/data/02_old_cartoons_mp4/Jungle_Jingles_(1929).mp4')}, {'input_file': PosixPath('/teamspace/studios/this_studio/VideoGen/data/02_old_cartoons_mp4/Oh_What_A_Knight_(1928).mp4')}, {'input_file': PosixPath('/teamspace/studios/this_studio/VideoGen/data/02_old_cartoons_mp4/Lady_Play_Your_Mandolin_(1931).mp4')}, {'input_file': PosixPath('/teamspace/studios/this_studio/VideoGen/data/02_old_cartoons_mp4/Wild_Waves_(1929).mp4')}, {'input_file': PosixPath('/teamspace/studios/this_studio/VideoGen/data/02_old_cartoons_mp4/Permanent_Wave_(1929).mp4')}, {'input_file': PosixPath('/teamspace/studios/this_studio/VideoGen/data/02_old_cartoons_mp4/The_Barn_Dance_(1929).mp4')}, {'input_file': PosixPath('/teamspace/studios/this_studio/VideoGen/data/02_old_cartoons_mp4/When_the_Cats_Away_(1929).mp4')}, {'input_file': PosixPath('/teamspace/studios/this_studio/VideoGen/data/02_old_cartoons_mp4/The_Bandmaster_(1931).mp4')}, {'input_file': PosixPath('/teamspace/studios/this_studio/VideoGen/data/02_old_cartoons_mp4/Hollywood_Capers_(1935).mp4')}, {'input_file': PosixPath('/teamspace/studios/this_studio/VideoGen/data/02_old_cartoons_mp4/The_Paneless_Window_Washer_(1937).mp4')}, {'input_file': PosixPath('/teamspace/studios/this_studio/VideoGen/data/02_old_cartoons_mp4/My_Old_Kentucky_Home_(1926).mp4')}, {'input_file': PosixPath('/teamspace/studios/this_studio/VideoGen/data/02_old_cartoons_mp4/Ratskin_(1929).mp4')}, {'input_file': PosixPath('/teamspace/studios/this_studio/VideoGen/data/02_old_cartoons_mp4/Smile_Darn_Ya_Smile_(1931).mp4')}, {'input_file': PosixPath('/teamspace/studios/this_studio/VideoGen/data/02_old_cartoons_mp4/Me_Musical_Nephews_(1942).mp4')}, {'input_file': PosixPath('/teamspace/studios/this_studio/VideoGen/data/02_old_cartoons_mp4/One_More_Time_(1931).mp4')}, {'input_file': PosixPath('/teamspace/studios/this_studio/VideoGen/data/02_old_cartoons_mp4/I_Love_A_Parade_(1932).mp4')}]\n"
     ]
    }
   ],
   "source": [
    "print(tasks)"
   ]
  },
  {
   "cell_type": "code",
   "execution_count": null,
   "metadata": {},
   "outputs": [],
   "source": [
    "with ThreadPoolExecutor(max_workers=8) as executor:\n",
    "    # Submit all tasks and get futures\n",
    "    futures = [\n",
    "        executor.submit(process_video, task['input_file'])\n",
    "        for task in tasks\n",
    "    ]\n",
    "    \n",
    "    # Process completed tasks as they finish\n",
    "    for future in as_completed(futures):\n",
    "        future.result()"
   ]
  }
 ],
 "metadata": {
  "language_info": {
   "name": "python"
  }
 },
 "nbformat": 4,
 "nbformat_minor": 2
}
