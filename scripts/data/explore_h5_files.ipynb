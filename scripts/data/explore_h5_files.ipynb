{
 "cells": [
  {
   "cell_type": "markdown",
   "metadata": {},
   "source": [
    "Games:\n",
    "- Tetris (325) X\n",
    "- Super Mario Land (315) X\n",
    "- Super Mario Land 2 (232) X\n",
    "- Super Mario Land 3 (308) X\n",
    "- Pokemon Red (289) X\n",
    "- Pokemon Blue (247) X\n",
    "- The Legend of Zelda (231) \n",
    "- Kirby's Dream Land (156) \n",
    "- Kirby's Dream Land 2 (196)\n",
    "- Donkey Kong (313)\n",
    "- Donkey Kong Land (244)"
   ]
  },
  {
   "cell_type": "code",
   "execution_count": 1,
   "metadata": {},
   "outputs": [
    {
     "name": "stdout",
     "output_type": "stream",
     "text": [
      "/teamspace/studios/this_studio/VideoGameGen/data/longplay_h5_files\n"
     ]
    }
   ],
   "source": [
    "%cd VideoGameGen/data/longplay_h5_files/"
   ]
  },
  {
   "cell_type": "code",
   "execution_count": 1,
   "metadata": {},
   "outputs": [
    {
     "name": "stdout",
     "output_type": "stream",
     "text": [
      "/teamspace/studios/gameboyprep/data/longplay_h5_files\n"
     ]
    }
   ],
   "source": [
    "%cd ../gameboyprep/data/longplay_h5_files"
   ]
  },
  {
   "cell_type": "code",
   "execution_count": 2,
   "metadata": {},
   "outputs": [
    {
     "name": "stdout",
     "output_type": "stream",
     "text": [
      "\u001b[0m\u001b[01;32m156_0_20fps.h5\u001b[0m*  \u001b[01;32m232_0_20fps.h5\u001b[0m*  \u001b[01;32m289_0_20fps.h5\u001b[0m*  \u001b[01;32m315_0_20fps.h5\u001b[0m*\n",
      "\u001b[01;32m196_0_20fps.h5\u001b[0m*  \u001b[01;32m244_0_20fps.h5\u001b[0m*  \u001b[01;32m308_0_20fps.h5\u001b[0m*  \u001b[01;32m325_0_20fps.h5\u001b[0m*\n",
      "\u001b[01;32m231_0_20fps.h5\u001b[0m*  \u001b[01;32m247_0_20fps.h5\u001b[0m*  \u001b[01;32m313_0_20fps.h5\u001b[0m*\n"
     ]
    }
   ],
   "source": [
    "%ls"
   ]
  },
  {
   "cell_type": "code",
   "execution_count": 3,
   "metadata": {},
   "outputs": [],
   "source": [
    "import h5py\n",
    "import math\n",
    "from functools import reduce\n",
    "from pathlib import Path\n",
    "import matplotlib.pyplot as plt\n",
    "import numpy as np\n",
    "from tqdm.auto import tqdm"
   ]
  },
  {
   "cell_type": "code",
   "execution_count": 4,
   "metadata": {},
   "outputs": [],
   "source": [
    "def display_array_as_image(array, cmap='gray'):\n",
    "    plt.imshow(array, cmap=cmap)\n",
    "    plt.axis('off')  # Hide axes\n",
    "    plt.show()"
   ]
  },
  {
   "cell_type": "code",
   "execution_count": 5,
   "metadata": {},
   "outputs": [],
   "source": [
    "selected_longplays = [325, 315, 232, 308, 289, 247, 231, 156, 196, 313, 244]"
   ]
  },
  {
   "cell_type": "code",
   "execution_count": 5,
   "metadata": {},
   "outputs": [],
   "source": [
    "h5_paths = []\n",
    "for file in Path('.').glob('*.h5'):\n",
    "    h5_paths.append(file)"
   ]
  },
  {
   "cell_type": "code",
   "execution_count": 6,
   "metadata": {},
   "outputs": [
    {
     "data": {
      "text/plain": [
       "11"
      ]
     },
     "execution_count": 6,
     "metadata": {},
     "output_type": "execute_result"
    }
   ],
   "source": [
    "len(h5_paths)"
   ]
  },
  {
   "cell_type": "code",
   "execution_count": 9,
   "metadata": {},
   "outputs": [
    {
     "name": "stdout",
     "output_type": "stream",
     "text": [
      "path: 156_0_20fps.h5, frame_count: 61105\n",
      "path: 196_0_20fps.h5, frame_count: 128311\n",
      "path: 231_0_20fps.h5, frame_count: 337115\n",
      "path: 232_0_20fps.h5, frame_count: 206567\n",
      "path: 244_0_20fps.h5, frame_count: 84269\n",
      "path: 247_0_20fps.h5, frame_count: 495173\n",
      "path: 289_0_20fps.h5, frame_count: 1106685\n",
      "path: 308_0_20fps.h5, frame_count: 198058\n",
      "path: 313_0_20fps.h5, frame_count: 115100\n",
      "path: 315_0_20fps.h5, frame_count: 34651\n",
      "path: 325_0_20fps.h5, frame_count: 61897\n",
      "2828931\n"
     ]
    }
   ],
   "source": [
    "# with h5py.File('315_0.h5', 'r') as f1, h5py.File('315_0_20fps.h5', 'r') as f2:\n",
    "#     frame = 3555\n",
    "#     display_array_as_image(f1['video_frames'][frame])\n",
    "#     display_array_as_image(f2['video_frames'][frame // 3])\n",
    "\n",
    "# with h5py.File('315_0_20fps.h5', 'r') as f:\n",
    "#     frame = 0\n",
    "#     display_array_as_image(f['video_frames'][frame])\n",
    "total_frames = 0\n",
    "for h5_path in h5_paths:\n",
    "    with h5py.File(h5_path.name, 'r') as f:\n",
    "        print(f\"path: {h5_path.name}, frame_count: {f['video_frames'].shape[0]}\")\n",
    "        total_frames += f['video_frames'].shape[0]\n",
    "        # display_array_as_image(f['video_frames'][frame])\n",
    "print(total_frames)"
   ]
  },
  {
   "cell_type": "code",
   "execution_count": 10,
   "metadata": {},
   "outputs": [],
   "source": [
    "def reduce_frames(input_file: str, \n",
    "                 output_file: str,\n",
    "                 dataset_name: str,\n",
    "                 reduction_factor: int = 3,\n",
    "                 chunk_size: int = 1000) -> None:\n",
    "    \"\"\"\n",
    "    Reduce frame rate by keeping every nth frame.\n",
    "    \n",
    "    Parameters:\n",
    "    -----------\n",
    "    input_file : str\n",
    "        Path to input H5 file\n",
    "    output_file : str\n",
    "        Path to output H5 file\n",
    "    dataset_name : str\n",
    "        Name of the dataset in the H5 file\n",
    "    reduction_factor : int\n",
    "        Keep every nth frame (e.g., 3 for 60fps -> 20fps)\n",
    "    chunk_size : int\n",
    "        Number of output frames to process at once\n",
    "    \"\"\"\n",
    "    with h5py.File(input_file, 'r') as f:\n",
    "        dset = f[dataset_name]\n",
    "        n_frames = dset.shape[0]\n",
    "        frame_shape = dset.shape[1:]\n",
    "        dtype = dset.dtype\n",
    "        \n",
    "        output_frames = n_frames // reduction_factor\n",
    "        valid_input_frames = output_frames * reduction_factor\n",
    "        \n",
    "        with h5py.File(output_file, 'w') as out_f:\n",
    "            out_dset = out_f.create_dataset(\n",
    "                dataset_name,\n",
    "                shape=(output_frames, *frame_shape),\n",
    "                dtype=dtype\n",
    "            )\n",
    "            \n",
    "            for start_idx in tqdm(range(0, output_frames, chunk_size), desc=\"Reducing frames\"):\n",
    "                end_idx = min(start_idx + chunk_size, output_frames)\n",
    "                in_start = start_idx * reduction_factor\n",
    "                in_end = end_idx * reduction_factor\n",
    "                out_dset[start_idx:end_idx] = dset[in_start:in_end:reduction_factor]"
   ]
  },
  {
   "cell_type": "code",
   "execution_count": null,
   "metadata": {},
   "outputs": [],
   "source": [
    "for h5_path in h5_paths:\n",
    "    reduce_frames(\n",
    "        input_file=h5_path.name,\n",
    "        output_file=f'../../../this_studio/VideoGameGen/data/longplay_h5_files/{h5_path.stem}_20fps.h5',\n",
    "        dataset_name='video_frames',\n",
    "        chunk_size=9000\n",
    "    )"
   ]
  },
  {
   "cell_type": "code",
   "execution_count": 99,
   "metadata": {},
   "outputs": [
    {
     "name": "stdout",
     "output_type": "stream",
     "text": [
      "\u001b[0m\u001b[01;34mgameboyprep\u001b[0m/  \u001b[01;34mthis_studio\u001b[0m/\n"
     ]
    }
   ],
   "source": [
    "%ls ../../../../"
   ]
  },
  {
   "cell_type": "code",
   "execution_count": 100,
   "metadata": {},
   "outputs": [
    {
     "data": {
      "image/png": "[encoded data removed]",
      "text/plain": [
       "<Figure size 640x480 with 1 Axes>"
      ]
     },
     "metadata": {},
     "output_type": "display_data"
    }
   ],
   "source": [
    "# with h5py.File(f'{156}_0_20fps.h5', 'r') as f:\n",
    "#     display_array_as_image(f['video_frames'][18])\n",
    "with h5py.File(f'../../../../gameboyprep/data/longplay_h5_files/156_0.h5', 'r') as f:\n",
    "    display_array_as_image(f['video_frames'][18])"
   ]
  },
  {
   "cell_type": "code",
   "execution_count": null,
   "metadata": {},
   "outputs": [],
   "source": []
  }
 ],
 "metadata": {
  "language_info": {
   "name": "python"
  }
 },
 "nbformat": 4,
 "nbformat_minor": 2
}
