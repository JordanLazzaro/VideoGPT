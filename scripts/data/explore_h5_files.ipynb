{
 "cells": [
  {
   "cell_type": "markdown",
   "metadata": {},
   "source": [
    "Games:\n",
    "- Tetris (325) X\n",
    "- Super Mario Land (315) X\n",
    "- Super Mario Land 2 (232) X\n",
    "- Super Mario Land 3 (308) X\n",
    "- Pokemon Red (289) X\n",
    "- Pokemon Blue (247) X\n",
    "- The Legend of Zelda (231) \n",
    "- Kirby's Dream Land (156) \n",
    "- Kirby's Dream Land 2 (196)\n",
    "- Donkey Kong (313)\n",
    "- Donkey Kong Land (244)"
   ]
  },
  {
   "cell_type": "code",
   "execution_count": 1,
   "metadata": {},
   "outputs": [
    {
     "name": "stdout",
     "output_type": "stream",
     "text": [
      "/teamspace/studios/this_studio/VideoGameGen/data/longplay_h5_files\n"
     ]
    }
   ],
   "source": [
    "%cd VideoGameGen/data/longplay_h5_files/"
   ]
  },
  {
   "cell_type": "code",
   "execution_count": 1,
   "metadata": {},
   "outputs": [
    {
     "name": "stdout",
     "output_type": "stream",
     "text": [
      "/teamspace/studios/gameboyprep/data/longplay_h5_files\n"
     ]
    }
   ],
   "source": [
    "%cd ../gameboyprep/data/longplay_h5_files"
   ]
  },
  {
   "cell_type": "code",
   "execution_count": null,
   "metadata": {},
   "outputs": [],
   "source": [
    "%ls"
   ]
  },
  {
   "cell_type": "code",
   "execution_count": 3,
   "metadata": {},
   "outputs": [],
   "source": [
    "import h5py\n",
    "import math\n",
    "from functools import reduce\n",
    "from pathlib import Path\n",
    "import matplotlib.pyplot as plt\n",
    "import numpy as np\n",
    "from tqdm.auto import tqdm"
   ]
  },
  {
   "cell_type": "code",
   "execution_count": 4,
   "metadata": {},
   "outputs": [],
   "source": [
    "def display_array_as_image(array, cmap='gray'):\n",
    "    plt.imshow(array, cmap=cmap)\n",
    "    plt.axis('off')  # Hide axes\n",
    "    plt.show()"
   ]
  },
  {
   "cell_type": "code",
   "execution_count": 5,
   "metadata": {},
   "outputs": [],
   "source": [
    "selected_longplays = [325, 315, 232, 308, 289, 247, 231, 156, 196, 313, 244]"
   ]
  },
  {
   "cell_type": "code",
   "execution_count": 6,
   "metadata": {},
   "outputs": [],
   "source": [
    "h5_paths = []\n",
    "for file in Path('.').glob('*.h5'):\n",
    "    longplay_id, _ = file.stem.split('_')\n",
    "    if int(longplay_id) in selected_longplays:\n",
    "        h5_paths.append(file)"
   ]
  },
  {
   "cell_type": "code",
   "execution_count": 7,
   "metadata": {},
   "outputs": [
    {
     "data": {
      "text/plain": [
       "11"
      ]
     },
     "execution_count": 7,
     "metadata": {},
     "output_type": "execute_result"
    }
   ],
   "source": [
    "len(h5_paths)"
   ]
  },
  {
   "cell_type": "code",
   "execution_count": null,
   "metadata": {},
   "outputs": [],
   "source": [
    "# with h5py.File('315_0.h5', 'r') as f1, h5py.File('315_0_20fps.h5', 'r') as f2:\n",
    "#     frame = 3555\n",
    "#     display_array_as_image(f1['video_frames'][frame])\n",
    "#     display_array_as_image(f2['video_frames'][frame // 3])\n",
    "\n",
    "# with h5py.File('315_0_20fps.h5', 'r') as f:\n",
    "#     frame = 0\n",
    "#     display_array_as_image(f['video_frames'][frame])\n",
    "for h5_path in h5_paths:\n",
    "    with h5py.File(h5_path.name, 'r') as f:\n",
    "        frame = f['video_frames'].shape[0] // 4\n",
    "        print(h5_path)\n",
    "        display_array_as_image(f['video_frames'][frame])"
   ]
  },
  {
   "cell_type": "code",
   "execution_count": 10,
   "metadata": {},
   "outputs": [],
   "source": [
    "def reduce_frames(input_file: str, \n",
    "                 output_file: str,\n",
    "                 dataset_name: str,\n",
    "                 reduction_factor: int = 3,\n",
    "                 chunk_size: int = 1000) -> None:\n",
    "    \"\"\"\n",
    "    Reduce frame rate by keeping every nth frame.\n",
    "    \n",
    "    Parameters:\n",
    "    -----------\n",
    "    input_file : str\n",
    "        Path to input H5 file\n",
    "    output_file : str\n",
    "        Path to output H5 file\n",
    "    dataset_name : str\n",
    "        Name of the dataset in the H5 file\n",
    "    reduction_factor : int\n",
    "        Keep every nth frame (e.g., 3 for 60fps -> 20fps)\n",
    "    chunk_size : int\n",
    "        Number of output frames to process at once\n",
    "    \"\"\"\n",
    "    with h5py.File(input_file, 'r') as f:\n",
    "        dset = f[dataset_name]\n",
    "        n_frames = dset.shape[0]\n",
    "        frame_shape = dset.shape[1:]\n",
    "        dtype = dset.dtype\n",
    "        \n",
    "        output_frames = n_frames // reduction_factor\n",
    "        valid_input_frames = output_frames * reduction_factor\n",
    "        \n",
    "        with h5py.File(output_file, 'w') as out_f:\n",
    "            out_dset = out_f.create_dataset(\n",
    "                dataset_name,\n",
    "                shape=(output_frames, *frame_shape),\n",
    "                dtype=dtype\n",
    "            )\n",
    "            \n",
    "            for start_idx in tqdm(range(0, output_frames, chunk_size), desc=\"Reducing frames\"):\n",
    "                end_idx = min(start_idx + chunk_size, output_frames)\n",
    "                in_start = start_idx * reduction_factor\n",
    "                in_end = end_idx * reduction_factor\n",
    "                out_dset[start_idx:end_idx] = dset[in_start:in_end:reduction_factor]"
   ]
  },
  {
   "cell_type": "code",
   "execution_count": 12,
   "metadata": {},
   "outputs": [
    {
     "data": {
      "application/vnd.jupyter.widget-view+json": {
       "model_id": "df8bdc8e985c47029686ac3fca135df9",
       "version_major": 2,
       "version_minor": 0
      },
      "text/plain": [
       "Reducing frames:   0%|          | 0/7 [00:00<?, ?it/s]"
      ]
     },
     "metadata": {},
     "output_type": "display_data"
    }
   ],
   "source": [
    "for h5_path in h5_paths:\n",
    "    reduce_frames(\n",
    "        input_file=h5_path.name,\n",
    "        output_file=f'../../../this_studio/VideoGameGen/data/longplay_h5_files/{h5_path.stem}_20fps.h5',\n",
    "        dataset_name='video_frames',\n",
    "        chunk_size=9000\n",
    "    )"
   ]
  }
 ],
 "metadata": {
  "language_info": {
   "name": "python"
  }
 },
 "nbformat": 4,
 "nbformat_minor": 2
}
