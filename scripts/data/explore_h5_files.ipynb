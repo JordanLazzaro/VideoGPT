{
 "cells": [
  {
   "cell_type": "markdown",
   "metadata": {},
   "source": [
    "Games:\n",
    "- Tetris (325) X\n",
    "- Super Mario Land (315) X\n",
    "- Super Mario Land 2 (323) X\n",
    "- Super Mario Land 3 (308) X\n",
    "- Pokemon Red (289) X\n",
    "- Pokemon Blue (247) X\n",
    "- The Legend of Zelda (231) \n",
    "- Kirby's Dream Land (156) \n",
    "- Kirby's Dream Land 2 (196)\n",
    "- Donkey Kong (313)\n",
    "- Donkey Kong Land (244)"
   ]
  },
  {
   "cell_type": "code",
   "execution_count": 2,
   "metadata": {},
   "outputs": [
    {
     "name": "stdout",
     "output_type": "stream",
     "text": [
      "/teamspace/studios/gameboyprep/data/longplay_h5_files\n"
     ]
    }
   ],
   "source": [
    "%cd ../gameboyprep/data/longplay_h5_files/"
   ]
  },
  {
   "cell_type": "code",
   "execution_count": 3,
   "metadata": {},
   "outputs": [],
   "source": [
    "import h5py\n",
    "import math\n",
    "from functools import reduce\n",
    "from pathlib import Path"
   ]
  },
  {
   "cell_type": "code",
   "execution_count": 8,
   "metadata": {},
   "outputs": [],
   "source": [
    "frame_counts = []\n",
    "for file in Path('.').glob('*.h5'):\n",
    "    with h5py.File(file.name, 'r') as f:\n",
    "        frame_counts.append(f['video_frames'].attrs['total_frames'])"
   ]
  },
  {
   "cell_type": "code",
   "execution_count": 18,
   "metadata": {},
   "outputs": [
    {
     "name": "stdout",
     "output_type": "stream",
     "text": [
      "3320057\n"
     ]
    }
   ],
   "source": [
    "print(max(frame_counts))"
   ]
  },
  {
   "cell_type": "code",
   "execution_count": 1,
   "metadata": {},
   "outputs": [
    {
     "ename": "NameError",
     "evalue": "name 'frame_counts' is not defined",
     "output_type": "error",
     "traceback": [
      "\u001b[0;31m---------------------------------------------------------------------------\u001b[0m",
      "\u001b[0;31mNameError\u001b[0m                                 Traceback (most recent call last)",
      "Cell \u001b[0;32mIn[1], line 2\u001b[0m\n\u001b[1;32m      1\u001b[0m shard_size \u001b[38;5;241m=\u001b[39m \u001b[38;5;241m1024\u001b[39m\n\u001b[0;32m----> 2\u001b[0m \u001b[38;5;28;01mfor\u001b[39;00m count \u001b[38;5;129;01min\u001b[39;00m \u001b[43mframe_counts\u001b[49m:\n\u001b[1;32m      3\u001b[0m     \u001b[38;5;28;01mif\u001b[39;00m count\u001b[38;5;241m%\u001b[39m\u001b[38;5;241m2\u001b[39m \u001b[38;5;241m!=\u001b[39m \u001b[38;5;241m0\u001b[39m:\n\u001b[1;32m      4\u001b[0m         count \u001b[38;5;241m-\u001b[39m\u001b[38;5;241m=\u001b[39m \u001b[38;5;241m1\u001b[39m\n",
      "\u001b[0;31mNameError\u001b[0m: name 'frame_counts' is not defined"
     ]
    }
   ],
   "source": [
    "shard_size = 1024\n",
    "for count in frame_counts:\n",
    "    if count%2 != 0:\n",
    "        count -= 1\n",
    "    print(f'before: {count}')\n",
    "    print(f'remainder: {count % shard_size}')"
   ]
  },
  {
   "cell_type": "code",
   "execution_count": 13,
   "metadata": {},
   "outputs": [
    {
     "data": {
      "text/plain": [
       "1"
      ]
     },
     "execution_count": 13,
     "metadata": {},
     "output_type": "execute_result"
    }
   ],
   "source": [
    "reduce(math.gcd, frame_counts)"
   ]
  },
  {
   "cell_type": "code",
   "execution_count": null,
   "metadata": {},
   "outputs": [],
   "source": []
  }
 ],
 "metadata": {
  "language_info": {
   "name": "python"
  }
 },
 "nbformat": 4,
 "nbformat_minor": 2
}
