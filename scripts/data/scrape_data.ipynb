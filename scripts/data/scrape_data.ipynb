{
 "cells": [
  {
   "cell_type": "code",
   "execution_count": 20,
   "metadata": {},
   "outputs": [],
   "source": [
    "!pip install -q beautifulsoup4 webdriver-manager"
   ]
  },
  {
   "cell_type": "code",
   "execution_count": 2,
   "metadata": {},
   "outputs": [],
   "source": [
    "GAMEBOY_LP_URL = 'https://longplays.org/infusions/longplays/longplays.php?cat_id=30'"
   ]
  },
  {
   "cell_type": "code",
   "execution_count": null,
   "metadata": {},
   "outputs": [],
   "source": [
    "!playwright install-deps"
   ]
  },
  {
   "cell_type": "code",
   "execution_count": 84,
   "metadata": {},
   "outputs": [],
   "source": [
    "from playwright.async_api import async_playwright\n",
    "import asyncio\n",
    "from bs4 import BeautifulSoup\n",
    "from urllib.parse import urljoin\n",
    "\n",
    "async def scrape_site(url, selector='table'):\n",
    "    async with async_playwright() as p:\n",
    "        browser = await p.firefox.launch()\n",
    "        page = await browser.new_page()\n",
    "        await page.goto(url)\n",
    "        # Wait for content to load\n",
    "        await page.wait_for_selector(selector)\n",
    "        content = await page.inner_html(selector)\n",
    "        await browser.close()\n",
    "        return content"
   ]
  },
  {
   "cell_type": "code",
   "execution_count": 61,
   "metadata": {},
   "outputs": [],
   "source": [
    "content = await scrape_site(GAMEBOY_LP_URL, selector='tbody')"
   ]
  },
  {
   "cell_type": "code",
   "execution_count": 67,
   "metadata": {},
   "outputs": [],
   "source": [
    "soup = BeautifulSoup(content, 'html.parser')"
   ]
  },
  {
   "cell_type": "code",
   "execution_count": 106,
   "metadata": {},
   "outputs": [],
   "source": [
    "links = soup.find_all('a')\n",
    "longplay_urls = {link.text: urljoin(GAMEBOY_LP_URL, link.get('href')) for link in links if 'longplay_id=' in link.get('href')}\n",
    "urls = []\n",
    "for link in links:\n",
    "    if 'longplay_id=' in link.get('href'):\n",
    "        urls.append((link.text, urljoin(GAMEBOY_LP_URL, link.get('href'))))"
   ]
  },
  {
   "cell_type": "code",
   "execution_count": 114,
   "metadata": {},
   "outputs": [
    {
     "name": "stdout",
     "output_type": "stream",
     "text": [
      "Duplicate link texts: {'Alien vs Predator: The Last of His Clan': 2}\n",
      "Text: Alien vs Predator: The Last of His Clan\n",
      "URL: https://longplays.org/infusions/longplays/longplays.php?cat_id=30&longplay_id=13935\n",
      "---\n",
      "Text: Alien vs Predator: The Last of His Clan\n",
      "URL: https://longplays.org/infusions/longplays/longplays.php?cat_id=30&longplay_id=13934\n",
      "---\n"
     ]
    }
   ],
   "source": [
    "text_count = {}\n",
    "for link in links:\n",
    "    if 'longplay_id=' in link.get('href'):\n",
    "        text = link.text\n",
    "        text_count[text] = text_count.get(text, 0) + 1\n",
    "\n",
    "# Print texts that appear more than once\n",
    "duplicates = {text: count for text, count in text_count.items() if count > 1}\n",
    "\n",
    "print(\"Duplicate link texts:\", duplicates)\n",
    "\n",
    "# To see the full entries with duplicate text:\n",
    "for link in links:\n",
    "    if 'longplay_id=' in link.get('href'):\n",
    "        text = link.text\n",
    "        if text in duplicates:\n",
    "            print(f\"Text: {text}\")\n",
    "            print(f\"URL: {urljoin(GAMEBOY_LP_URL, link.get('href'))}\")\n",
    "            print(\"---\")"
   ]
  },
  {
   "cell_type": "code",
   "execution_count": 101,
   "metadata": {},
   "outputs": [],
   "source": [
    "for url in urls:\n",
    "    if url[0] == None:\n",
    "        print(url)"
   ]
  }
 ],
 "metadata": {
  "language_info": {
   "name": "python"
  }
 },
 "nbformat": 4,
 "nbformat_minor": 2
}
