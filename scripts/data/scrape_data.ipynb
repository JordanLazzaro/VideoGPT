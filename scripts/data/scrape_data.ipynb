{
 "cells": [
  {
   "cell_type": "code",
   "execution_count": 1,
   "metadata": {},
   "outputs": [],
   "source": [
    "GAMEBOY_LP_URL = 'https://longplays.org/infusions/longplays/longplays.php?cat_id=30'"
   ]
  },
  {
   "cell_type": "code",
   "execution_count": 2,
   "metadata": {},
   "outputs": [],
   "source": [
    "import asyncio\n",
    "import aiohttp\n",
    "import random\n",
    "import requests\n",
    "import json\n",
    "from bs4 import BeautifulSoup\n",
    "from urllib.parse import urljoin\n",
    "from tqdm.asyncio import tqdm_asyncio\n",
    "from tqdm.asyncio import tqdm_asyncio\n",
    "from playwright.async_api import async_playwright\n",
    "from urllib.parse import urlparse\n",
    "from tenacity import retry, stop_after_attempt, wait_exponential, retry_if_exception_type"
   ]
  },
  {
   "cell_type": "code",
   "execution_count": 3,
   "metadata": {},
   "outputs": [],
   "source": [
    "async def scrape_site(url, selector='table'):\n",
    "    async with async_playwright() as p:\n",
    "        browser = await p.firefox.launch()\n",
    "        page = await browser.new_page()\n",
    "        await page.goto(url)\n",
    "        await page.wait_for_selector(selector)\n",
    "        content = await page.inner_html(selector)\n",
    "        await browser.close()\n",
    "        return content"
   ]
  },
  {
   "cell_type": "code",
   "execution_count": 4,
   "metadata": {},
   "outputs": [],
   "source": [
    "content = await scrape_site(GAMEBOY_LP_URL, selector='tbody')"
   ]
  },
  {
   "cell_type": "code",
   "execution_count": 5,
   "metadata": {},
   "outputs": [],
   "source": [
    "soup = BeautifulSoup(content, 'html.parser')"
   ]
  },
  {
   "cell_type": "code",
   "execution_count": 6,
   "metadata": {},
   "outputs": [],
   "source": [
    "links = soup.find_all('a')\n",
    "longplays = [{'name': link.text, 'url': urljoin(GAMEBOY_LP_URL, link.get('href'))} for link in links if 'longplay_id=' in link.get('href')]"
   ]
  },
  {
   "cell_type": "code",
   "execution_count": 12,
   "metadata": {},
   "outputs": [
    {
     "name": "stdout",
     "output_type": "stream",
     "text": [
      "{'name': 'Waterworld', 'url': 'https://longplays.org/infusions/longplays/longplays.php?cat_id=30&longplay_id=4913'}\n"
     ]
    }
   ],
   "source": [
    "for lp in longplays:\n",
    "    if lp['url'] == 'https://longplays.org/infusions/longplays/longplays.php?cat_id=30&longplay_id=4913':\n",
    "        print(lp)"
   ]
  },
  {
   "cell_type": "code",
   "execution_count": 7,
   "metadata": {},
   "outputs": [],
   "source": [
    "async def scrape_longplays(longplays, max_concurrent=3, wait_for_selector='table.tblDetail'):\n",
    "    ''' assuming longplays: [{ 'name': '', url: '' }, ...]'''\n",
    "    async with async_playwright() as p:\n",
    "        browser = await p.firefox.launch()\n",
    "        semaphore = asyncio.Semaphore(max_concurrent)\n",
    "        data = []\n",
    "        \n",
    "        async def scrape_longplay(longplay):\n",
    "            async with semaphore:\n",
    "                await asyncio.sleep(random.uniform(1, 3))\n",
    "                page = await browser.new_page()\n",
    "                try:\n",
    "                    # get page content\n",
    "                    await page.goto(longplay['url'])\n",
    "                    await page.wait_for_selector(wait_for_selector)\n",
    "                    content = await page.content()\n",
    "                    await page.close()\n",
    "                    \n",
    "                    # extract and store longplay metadata\n",
    "                    soup = BeautifulSoup(content, 'html.parser')\n",
    "                    authors_ = soup.find_all('a', href=lambda x: x and 'author=' in x)\n",
    "                    download_links_ = soup.find_all('a', href=lambda x: x and 'file_id=' in x)\n",
    "\n",
    "                    authors = [{'username': link.text, 'url': urljoin(GAMEBOY_LP_URL, link.get('href'))} for link in authors_]\n",
    "                    download_links = [urljoin(GAMEBOY_LP_URL, link.get('href')) for link in download_links_]\n",
    "                    \n",
    "                    data.append({\n",
    "                        'name': longplay['name'],\n",
    "                        'authors': authors,\n",
    "                        'downloads': download_links\n",
    "                    })\n",
    "                    # return url, BeautifulSoup(content, 'html.parser')\n",
    "                except Exception as e:\n",
    "                    print(f\"Error scraping {longplay['url']}: {e}\")\n",
    "                    await page.close()\n",
    "                    return None\n",
    "\n",
    "        await tqdm_asyncio.gather(\n",
    "            *[scrape_longplay(longplay) for longplay in longplays],\n",
    "            desc=\"Scraping sites\",\n",
    "            total=len(longplays)\n",
    "        )\n",
    "        \n",
    "        await browser.close()\n",
    "        return { 'longplays': data }"
   ]
  },
  {
   "cell_type": "code",
   "execution_count": null,
   "metadata": {},
   "outputs": [],
   "source": [
    "results = await scrape_longplays(longplays)"
   ]
  },
  {
   "cell_type": "code",
   "execution_count": 11,
   "metadata": {},
   "outputs": [],
   "source": [
    "with open('longplay_metadata.json', 'w') as f:\n",
    "    json.dump(results, f, indent=2)"
   ]
  },
  {
   "cell_type": "code",
   "execution_count": null,
   "metadata": {},
   "outputs": [],
   "source": [
    "@retry(\n",
    "    stop=stop_after_attempt(3),\n",
    "    wait=wait_exponential(multiplier=1, min=4, max=10),\n",
    "    retry=(retry_if_exception_type(aiohttp.ClientError) | retry_if_exception_type(asyncio.TimeoutError)),\n",
    "    retry_with_async=True\n",
    ")\n",
    "async def get_actual_download_url(initial_url):\n",
    "    ''' aquire actual download url after redirects '''\n",
    "    try:\n",
    "        async with aiohttp.ClientSession() as session:\n",
    "            async with session.get(\n",
    "                initial_url,\n",
    "                allow_redirects=True,\n",
    "                headers={\n",
    "                    'User-Agent': 'Mozilla/5.0 (Windows NT 10.0; Win64; x64) AppleWebKit/537.36'\n",
    "                },\n",
    "                timeout=aiohttp.ClientTimeout(total=30)\n",
    "            ) as response:\n",
    "                response.raise_for_status()\n",
    "                return str(response.url)"
   ]
  },
  {
   "cell_type": "code",
   "execution_count": null,
   "metadata": {},
   "outputs": [],
   "source": [
    "@retry(\n",
    "    stop=stop_after_attempt(3),\n",
    "    wait=wait_exponential(multiplier=1, min=4, max=10),\n",
    "    retry=(retry_if_exception_type(aiohttp.ClientError) | retry_if_exception_type(asyncio.TimeoutError)),\n",
    "    retry_with_async=True\n",
    ")\n",
    "async def download_file(url, output_path=None):\n",
    "    try:\n",
    "        response = requests.get(url, stream=True, timeout=30)\n",
    "        response.raise_for_status()\n",
    "\n",
    "        if output_path is None:\n",
    "            output_path = await get_filename_from_response(url, response)\n",
    "        \n",
    "        total_size = int(response.headers.get('content-length', 0))\n",
    "        \n",
    "        with open(output_path, 'wb') as file, tqdm(\n",
    "                desc=output_path,\n",
    "                total=total_size,\n",
    "                unit='iB',\n",
    "                unit_scale=True,\n",
    "                unit_divisor=1024,\n",
    "                colour='green'\n",
    "             ) as progress_bar:\n",
    "            for data in response.iter_content(chunk_size=8192):\n",
    "                size = file.write(data)\n",
    "                progress_bar.update(size)\n",
    "                \n",
    "    except requests.RequestException as e:\n",
    "        if os.path.exists(output_path):\n",
    "            os.remove(output_path)\n",
    "        raise Exception(f\"Download attempt failed: {str(e)}\")"
   ]
  },
  {
   "cell_type": "code",
   "execution_count": 2,
   "metadata": {},
   "outputs": [
    {
     "name": "stdout",
     "output_type": "stream",
     "text": [
      "\u001b[0m\u001b[01;34mVideoGen\u001b[0m/  \u001b[01;32mlongplay_metadata.json\u001b[0m*\n"
     ]
    }
   ],
   "source": [
    "%ls"
   ]
  },
  {
   "cell_type": "code",
   "execution_count": null,
   "metadata": {},
   "outputs": [],
   "source": [
    "def get_filename_from_response(url, response):\n",
    "    content_type = response.headers.get('Content-Type', '').split(';')[0]\n",
    "    ext_map = {\n",
    "        # Video formats\n",
    "       'video/x-matroska': '.mkv',\n",
    "        'video/mp4': '.mp4',\n",
    "        'video/webm': '.webm',\n",
    "        'video/ogg': '.ogv',\n",
    "        'video/x-msvideo': '.avi',\n",
    "        'video/quicktime': '.mov',\n",
    "        'video/x-ms-wmv': '.wmv',\n",
    "        'video/3gpp': '.3gp',\n",
    "        'video/x-flv': '.flv'\n",
    "        # Common non-video formats\n",
    "        'application/pdf': '.pdf',\n",
    "        'image/jpeg': '.jpg',\n",
    "        'image/png': '.png',\n",
    "        'image/gif': '.gif',\n",
    "        'text/csv': '.csv',\n",
    "        'application/zip': '.zip',\n",
    "        'text/plain': '.txt',\n",
    "        'application/json': '.json',\n",
    "        'audio/mpeg': '.mp3',\n",
    "        'audio/wav': '.wav'\n",
    "    }\n",
    "    extension = ext_map.get(content_type, '')\n",
    "\n",
    "    # Try Content-Disposition first\n",
    "    if 'Content-Disposition' in response.headers:\n",
    "        cd = response.headers['Content-Disposition']\n",
    "        if 'filename=' in cd:\n",
    "            return cd.split('filename=')[1].strip('\"')\n",
    "    \n",
    "    # Fall back to URL basename + extension from content type\n",
    "    base = os.path.basename(urlparse(url).path).split('.')[0] or 'downloaded_file'\n",
    "    return f\"{base}{extension}\""
   ]
  },
  {
   "cell_type": "code",
   "execution_count": null,
   "metadata": {},
   "outputs": [],
   "source": [
    "async def download_files():\n",
    "    final_urls = await asyncio.gather(*[get_actual_download_url(url) for url in urls])\n",
    "    await asyncio.gather(*[download_file(url, get) \n",
    "                          for i, url in enumerate(final_urls)])"
   ]
  }
 ],
 "metadata": {
  "language_info": {
   "name": "python"
  }
 },
 "nbformat": 4,
 "nbformat_minor": 2
}
