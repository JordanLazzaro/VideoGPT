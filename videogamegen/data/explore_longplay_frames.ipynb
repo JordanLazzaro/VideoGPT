{
 "cells": [
  {
   "cell_type": "code",
   "execution_count": 1,
   "metadata": {},
   "outputs": [],
   "source": [
    "from videogamegen.data.dataset import VideoFrameDataset, worker_init_fn\n",
    "from torch.utils.data import DataLoader"
   ]
  },
  {
   "cell_type": "code",
   "execution_count": 2,
   "metadata": {},
   "outputs": [
    {
     "name": "stdout",
     "output_type": "stream",
     "text": [
      "\u001b[0m\u001b[01;32m0_0.h5\u001b[0m*    \u001b[01;32m165_0.h5\u001b[0m*  \u001b[01;32m22_0.h5\u001b[0m*   \u001b[01;32m292_0.h5\u001b[0m*  \u001b[01;32m357_0.h5\u001b[0m*  \u001b[01;32m420_0.h5\u001b[0m*  \u001b[01;32m483_0.h5\u001b[0m*\n",
      "\u001b[01;32m100_0.h5\u001b[0m*  \u001b[01;32m166_0.h5\u001b[0m*  \u001b[01;32m22_1.h5\u001b[0m*   \u001b[01;32m293_0.h5\u001b[0m*  \u001b[01;32m358_0.h5\u001b[0m*  \u001b[01;32m421_0.h5\u001b[0m*  \u001b[01;32m484_0.h5\u001b[0m*\n",
      "\u001b[01;32m101_0.h5\u001b[0m*  \u001b[01;32m167_0.h5\u001b[0m*  \u001b[01;32m230_0.h5\u001b[0m*  \u001b[01;32m294_0.h5\u001b[0m*  \u001b[01;32m359_0.h5\u001b[0m*  \u001b[01;32m422_0.h5\u001b[0m*  \u001b[01;32m485_0.h5\u001b[0m*\n",
      "\u001b[01;32m102_0.h5\u001b[0m*  \u001b[01;32m168_0.h5\u001b[0m*  \u001b[01;32m231_0.h5\u001b[0m*  \u001b[01;32m295_0.h5\u001b[0m*  \u001b[01;32m35_0.h5\u001b[0m*   \u001b[01;32m423_0.h5\u001b[0m*  \u001b[01;32m486_0.h5\u001b[0m*\n",
      "\u001b[01;32m103_0.h5\u001b[0m*  \u001b[01;32m169_0.h5\u001b[0m*  \u001b[01;32m232_0.h5\u001b[0m*  \u001b[01;32m296_0.h5\u001b[0m*  \u001b[01;32m360_0.h5\u001b[0m*  \u001b[01;32m424_0.h5\u001b[0m*  \u001b[01;32m487_0.h5\u001b[0m*\n",
      "\u001b[01;32m104_0.h5\u001b[0m*  \u001b[01;32m16_0.h5\u001b[0m*   \u001b[01;32m233_0.h5\u001b[0m*  \u001b[01;32m297_0.h5\u001b[0m*  \u001b[01;32m361_0.h5\u001b[0m*  \u001b[01;32m425_0.h5\u001b[0m*  \u001b[01;32m488_0.h5\u001b[0m*\n",
      "\u001b[01;32m105_0.h5\u001b[0m*  \u001b[01;32m170_0.h5\u001b[0m*  \u001b[01;32m234_0.h5\u001b[0m*  \u001b[01;32m298_0.h5\u001b[0m*  \u001b[01;32m362_0.h5\u001b[0m*  \u001b[01;32m426_0.h5\u001b[0m*  \u001b[01;32m48_0.h5\u001b[0m*\n",
      "\u001b[01;32m106_0.h5\u001b[0m*  \u001b[01;32m171_0.h5\u001b[0m*  \u001b[01;32m235_0.h5\u001b[0m*  \u001b[01;32m299_0.h5\u001b[0m*  \u001b[01;32m363_0.h5\u001b[0m*  \u001b[01;32m427_0.h5\u001b[0m*  \u001b[01;32m49_0.h5\u001b[0m*\n",
      "\u001b[01;32m107_0.h5\u001b[0m*  \u001b[01;32m172_0.h5\u001b[0m*  \u001b[01;32m236_0.h5\u001b[0m*  \u001b[01;32m29_0.h5\u001b[0m*   \u001b[01;32m364_0.h5\u001b[0m*  \u001b[01;32m428_0.h5\u001b[0m*  \u001b[01;32m4_0.h5\u001b[0m*\n",
      "\u001b[01;32m108_0.h5\u001b[0m*  \u001b[01;32m173_0.h5\u001b[0m*  \u001b[01;32m237_0.h5\u001b[0m*  \u001b[01;32m2_0.h5\u001b[0m*    \u001b[01;32m365_0.h5\u001b[0m*  \u001b[01;32m429_0.h5\u001b[0m*  \u001b[01;32m50_0.h5\u001b[0m*\n",
      "\u001b[01;32m109_0.h5\u001b[0m*  \u001b[01;32m174_0.h5\u001b[0m*  \u001b[01;32m238_0.h5\u001b[0m*  \u001b[01;32m300_0.h5\u001b[0m*  \u001b[01;32m366_0.h5\u001b[0m*  \u001b[01;32m42_0.h5\u001b[0m*   \u001b[01;32m51_0.h5\u001b[0m*\n",
      "\u001b[01;32m10_0.h5\u001b[0m*   \u001b[01;32m175_0.h5\u001b[0m*  \u001b[01;32m238_1.h5\u001b[0m*  \u001b[01;32m301_0.h5\u001b[0m*  \u001b[01;32m367_0.h5\u001b[0m*  \u001b[01;32m430_0.h5\u001b[0m*  \u001b[01;32m52_0.h5\u001b[0m*\n",
      "\u001b[01;32m110_0.h5\u001b[0m*  \u001b[01;32m176_0.h5\u001b[0m*  \u001b[01;32m238_2.h5\u001b[0m*  \u001b[01;32m302_0.h5\u001b[0m*  \u001b[01;32m368_0.h5\u001b[0m*  \u001b[01;32m431_0.h5\u001b[0m*  \u001b[01;32m53_0.h5\u001b[0m*\n",
      "\u001b[01;32m111_0.h5\u001b[0m*  \u001b[01;32m177_0.h5\u001b[0m*  \u001b[01;32m239_0.h5\u001b[0m*  \u001b[01;32m303_0.h5\u001b[0m*  \u001b[01;32m369_0.h5\u001b[0m*  \u001b[01;32m432_0.h5\u001b[0m*  \u001b[01;32m54_0.h5\u001b[0m*\n",
      "\u001b[01;32m112_0.h5\u001b[0m*  \u001b[01;32m178_0.h5\u001b[0m*  \u001b[01;32m23_0.h5\u001b[0m*   \u001b[01;32m304_0.h5\u001b[0m*  \u001b[01;32m36_0.h5\u001b[0m*   \u001b[01;32m432_1.h5\u001b[0m*  \u001b[01;32m55_0.h5\u001b[0m*\n",
      "\u001b[01;32m113_0.h5\u001b[0m*  \u001b[01;32m179_0.h5\u001b[0m*  \u001b[01;32m240_0.h5\u001b[0m*  \u001b[01;32m305_0.h5\u001b[0m*  \u001b[01;32m370_0.h5\u001b[0m*  \u001b[01;32m432_2.h5\u001b[0m*  \u001b[01;32m56_0.h5\u001b[0m*\n",
      "\u001b[01;32m114_0.h5\u001b[0m*  \u001b[01;32m17_0.h5\u001b[0m*   \u001b[01;32m241_0.h5\u001b[0m*  \u001b[01;32m306_0.h5\u001b[0m*  \u001b[01;32m371_0.h5\u001b[0m*  \u001b[01;32m432_3.h5\u001b[0m*  \u001b[01;32m57_0.h5\u001b[0m*\n",
      "\u001b[01;32m115_0.h5\u001b[0m*  \u001b[01;32m180_0.h5\u001b[0m*  \u001b[01;32m242_0.h5\u001b[0m*  \u001b[01;32m307_0.h5\u001b[0m*  \u001b[01;32m372_0.h5\u001b[0m*  \u001b[01;32m433_0.h5\u001b[0m*  \u001b[01;32m58_0.h5\u001b[0m*\n",
      "\u001b[01;32m116_0.h5\u001b[0m*  \u001b[01;32m181_0.h5\u001b[0m*  \u001b[01;32m243_0.h5\u001b[0m*  \u001b[01;32m308_0.h5\u001b[0m*  \u001b[01;32m373_0.h5\u001b[0m*  \u001b[01;32m434_0.h5\u001b[0m*  \u001b[01;32m59_0.h5\u001b[0m*\n",
      "\u001b[01;32m117_0.h5\u001b[0m*  \u001b[01;32m182_0.h5\u001b[0m*  \u001b[01;32m244_0.h5\u001b[0m*  \u001b[01;32m309_0.h5\u001b[0m*  \u001b[01;32m374_0.h5\u001b[0m*  \u001b[01;32m435_0.h5\u001b[0m*  \u001b[01;32m5_0.h5\u001b[0m*\n",
      "\u001b[01;32m118_0.h5\u001b[0m*  \u001b[01;32m183_0.h5\u001b[0m*  \u001b[01;32m245_0.h5\u001b[0m*  \u001b[01;32m30_0.h5\u001b[0m*   \u001b[01;32m375_0.h5\u001b[0m*  \u001b[01;32m436_0.h5\u001b[0m*  \u001b[01;32m60_0.h5\u001b[0m*\n",
      "\u001b[01;32m119_0.h5\u001b[0m*  \u001b[01;32m184_0.h5\u001b[0m*  \u001b[01;32m246_0.h5\u001b[0m*  \u001b[01;32m310_0.h5\u001b[0m*  \u001b[01;32m376_0.h5\u001b[0m*  \u001b[01;32m437_0.h5\u001b[0m*  \u001b[01;32m61_0.h5\u001b[0m*\n",
      "\u001b[01;32m11_0.h5\u001b[0m*   \u001b[01;32m185_0.h5\u001b[0m*  \u001b[01;32m247_0.h5\u001b[0m*  \u001b[01;32m311_0.h5\u001b[0m*  \u001b[01;32m377_0.h5\u001b[0m*  \u001b[01;32m438_0.h5\u001b[0m*  \u001b[01;32m62_0.h5\u001b[0m*\n",
      "\u001b[01;32m120_0.h5\u001b[0m*  \u001b[01;32m186_0.h5\u001b[0m*  \u001b[01;32m248_0.h5\u001b[0m*  \u001b[01;32m312_0.h5\u001b[0m*  \u001b[01;32m378_0.h5\u001b[0m*  \u001b[01;32m439_0.h5\u001b[0m*  \u001b[01;32m63_0.h5\u001b[0m*\n",
      "\u001b[01;32m121_0.h5\u001b[0m*  \u001b[01;32m187_0.h5\u001b[0m*  \u001b[01;32m249_0.h5\u001b[0m*  \u001b[01;32m313_0.h5\u001b[0m*  \u001b[01;32m379_0.h5\u001b[0m*  \u001b[01;32m43_0.h5\u001b[0m*   \u001b[01;32m64_0.h5\u001b[0m*\n",
      "\u001b[01;32m122_0.h5\u001b[0m*  \u001b[01;32m188_0.h5\u001b[0m*  \u001b[01;32m24_0.h5\u001b[0m*   \u001b[01;32m314_0.h5\u001b[0m*  \u001b[01;32m37_0.h5\u001b[0m*   \u001b[01;32m440_0.h5\u001b[0m*  \u001b[01;32m65_0.h5\u001b[0m*\n",
      "\u001b[01;32m123_0.h5\u001b[0m*  \u001b[01;32m189_0.h5\u001b[0m*  \u001b[01;32m250_0.h5\u001b[0m*  \u001b[01;32m315_0.h5\u001b[0m*  \u001b[01;32m380_0.h5\u001b[0m*  \u001b[01;32m441_0.h5\u001b[0m*  \u001b[01;32m66_0.h5\u001b[0m*\n",
      "\u001b[01;32m124_0.h5\u001b[0m*  \u001b[01;32m18_0.h5\u001b[0m*   \u001b[01;32m251_0.h5\u001b[0m*  \u001b[01;32m316_0.h5\u001b[0m*  \u001b[01;32m381_0.h5\u001b[0m*  \u001b[01;32m442_0.h5\u001b[0m*  \u001b[01;32m67_0.h5\u001b[0m*\n",
      "\u001b[01;32m125_0.h5\u001b[0m*  \u001b[01;32m190_0.h5\u001b[0m*  \u001b[01;32m252_0.h5\u001b[0m*  \u001b[01;32m317_0.h5\u001b[0m*  \u001b[01;32m382_0.h5\u001b[0m*  \u001b[01;32m443_0.h5\u001b[0m*  \u001b[01;32m68_0.h5\u001b[0m*\n",
      "\u001b[01;32m126_0.h5\u001b[0m*  \u001b[01;32m191_0.h5\u001b[0m*  \u001b[01;32m253_0.h5\u001b[0m*  \u001b[01;32m318_0.h5\u001b[0m*  \u001b[01;32m382_1.h5\u001b[0m*  \u001b[01;32m444_0.h5\u001b[0m*  \u001b[01;32m69_0.h5\u001b[0m*\n",
      "\u001b[01;32m127_0.h5\u001b[0m*  \u001b[01;32m192_0.h5\u001b[0m*  \u001b[01;32m254_0.h5\u001b[0m*  \u001b[01;32m319_0.h5\u001b[0m*  \u001b[01;32m383_0.h5\u001b[0m*  \u001b[01;32m445_0.h5\u001b[0m*  \u001b[01;32m6_0.h5\u001b[0m*\n",
      "\u001b[01;32m128_0.h5\u001b[0m*  \u001b[01;32m193_0.h5\u001b[0m*  \u001b[01;32m255_0.h5\u001b[0m*  \u001b[01;32m31_0.h5\u001b[0m*   \u001b[01;32m384_0.h5\u001b[0m*  \u001b[01;32m446_0.h5\u001b[0m*  \u001b[01;32m70_0.h5\u001b[0m*\n",
      "\u001b[01;32m129_0.h5\u001b[0m*  \u001b[01;32m194_0.h5\u001b[0m*  \u001b[01;32m256_0.h5\u001b[0m*  \u001b[01;32m320_0.h5\u001b[0m*  \u001b[01;32m385_0.h5\u001b[0m*  \u001b[01;32m447_0.h5\u001b[0m*  \u001b[01;32m71_0.h5\u001b[0m*\n",
      "\u001b[01;32m12_0.h5\u001b[0m*   \u001b[01;32m195_0.h5\u001b[0m*  \u001b[01;32m257_0.h5\u001b[0m*  \u001b[01;32m321_0.h5\u001b[0m*  \u001b[01;32m386_0.h5\u001b[0m*  \u001b[01;32m448_0.h5\u001b[0m*  \u001b[01;32m72_0.h5\u001b[0m*\n",
      "\u001b[01;32m130_0.h5\u001b[0m*  \u001b[01;32m196_0.h5\u001b[0m*  \u001b[01;32m258_0.h5\u001b[0m*  \u001b[01;32m322_0.h5\u001b[0m*  \u001b[01;32m387_0.h5\u001b[0m*  \u001b[01;32m449_0.h5\u001b[0m*  \u001b[01;32m73_0.h5\u001b[0m*\n",
      "\u001b[01;32m131_0.h5\u001b[0m*  \u001b[01;32m197_0.h5\u001b[0m*  \u001b[01;32m259_0.h5\u001b[0m*  \u001b[01;32m323_0.h5\u001b[0m*  \u001b[01;32m388_0.h5\u001b[0m*  \u001b[01;32m44_0.h5\u001b[0m*   \u001b[01;32m74_0.h5\u001b[0m*\n",
      "\u001b[01;32m132_0.h5\u001b[0m*  \u001b[01;32m198_0.h5\u001b[0m*  \u001b[01;32m25_0.h5\u001b[0m*   \u001b[01;32m324_0.h5\u001b[0m*  \u001b[01;32m389_0.h5\u001b[0m*  \u001b[01;32m450_0.h5\u001b[0m*  \u001b[01;32m75_0.h5\u001b[0m*\n",
      "\u001b[01;32m133_0.h5\u001b[0m*  \u001b[01;32m199_0.h5\u001b[0m*  \u001b[01;32m260_0.h5\u001b[0m*  \u001b[01;32m325_0.h5\u001b[0m*  \u001b[01;32m38_0.h5\u001b[0m*   \u001b[01;32m451_0.h5\u001b[0m*  \u001b[01;32m76_0.h5\u001b[0m*\n",
      "\u001b[01;32m134_0.h5\u001b[0m*  \u001b[01;32m19_0.h5\u001b[0m*   \u001b[01;32m261_0.h5\u001b[0m*  \u001b[01;32m326_0.h5\u001b[0m*  \u001b[01;32m390_0.h5\u001b[0m*  \u001b[01;32m452_0.h5\u001b[0m*  \u001b[01;32m77_0.h5\u001b[0m*\n",
      "\u001b[01;32m135_0.h5\u001b[0m*  \u001b[01;32m1_0.h5\u001b[0m*    \u001b[01;32m262_0.h5\u001b[0m*  \u001b[01;32m327_0.h5\u001b[0m*  \u001b[01;32m391_0.h5\u001b[0m*  \u001b[01;32m453_0.h5\u001b[0m*  \u001b[01;32m78_0.h5\u001b[0m*\n",
      "\u001b[01;32m136_0.h5\u001b[0m*  \u001b[01;32m200_0.h5\u001b[0m*  \u001b[01;32m263_0.h5\u001b[0m*  \u001b[01;32m328_0.h5\u001b[0m*  \u001b[01;32m392_0.h5\u001b[0m*  \u001b[01;32m454_0.h5\u001b[0m*  \u001b[01;32m79_0.h5\u001b[0m*\n",
      "\u001b[01;32m137_0.h5\u001b[0m*  \u001b[01;32m201_0.h5\u001b[0m*  \u001b[01;32m264_0.h5\u001b[0m*  \u001b[01;32m329_0.h5\u001b[0m*  \u001b[01;32m393_0.h5\u001b[0m*  \u001b[01;32m455_0.h5\u001b[0m*  \u001b[01;32m7_0.h5\u001b[0m*\n",
      "\u001b[01;32m138_0.h5\u001b[0m*  \u001b[01;32m202_0.h5\u001b[0m*  \u001b[01;32m265_0.h5\u001b[0m*  \u001b[01;32m32_0.h5\u001b[0m*   \u001b[01;32m394_0.h5\u001b[0m*  \u001b[01;32m456_0.h5\u001b[0m*  \u001b[01;32m80_0.h5\u001b[0m*\n",
      "\u001b[01;32m139_0.h5\u001b[0m*  \u001b[01;32m203_0.h5\u001b[0m*  \u001b[01;32m266_0.h5\u001b[0m*  \u001b[01;32m330_0.h5\u001b[0m*  \u001b[01;32m395_0.h5\u001b[0m*  \u001b[01;32m457_0.h5\u001b[0m*  \u001b[01;32m81_0.h5\u001b[0m*\n",
      "\u001b[01;32m13_0.h5\u001b[0m*   \u001b[01;32m204_0.h5\u001b[0m*  \u001b[01;32m267_0.h5\u001b[0m*  \u001b[01;32m331_0.h5\u001b[0m*  \u001b[01;32m396_0.h5\u001b[0m*  \u001b[01;32m458_0.h5\u001b[0m*  \u001b[01;32m82_0.h5\u001b[0m*\n",
      "\u001b[01;32m140_0.h5\u001b[0m*  \u001b[01;32m205_0.h5\u001b[0m*  \u001b[01;32m268_0.h5\u001b[0m*  \u001b[01;32m332_0.h5\u001b[0m*  \u001b[01;32m397_0.h5\u001b[0m*  \u001b[01;32m459_0.h5\u001b[0m*  \u001b[01;32m83_0.h5\u001b[0m*\n",
      "\u001b[01;32m141_0.h5\u001b[0m*  \u001b[01;32m206_0.h5\u001b[0m*  \u001b[01;32m269_0.h5\u001b[0m*  \u001b[01;32m333_0.h5\u001b[0m*  \u001b[01;32m398_0.h5\u001b[0m*  \u001b[01;32m45_0.h5\u001b[0m*   \u001b[01;32m84_0.h5\u001b[0m*\n",
      "\u001b[01;32m142_0.h5\u001b[0m*  \u001b[01;32m207_0.h5\u001b[0m*  \u001b[01;32m26_0.h5\u001b[0m*   \u001b[01;32m334_0.h5\u001b[0m*  \u001b[01;32m399_0.h5\u001b[0m*  \u001b[01;32m460_0.h5\u001b[0m*  \u001b[01;32m85_0.h5\u001b[0m*\n",
      "\u001b[01;32m143_0.h5\u001b[0m*  \u001b[01;32m208_0.h5\u001b[0m*  \u001b[01;32m270_0.h5\u001b[0m*  \u001b[01;32m335_0.h5\u001b[0m*  \u001b[01;32m39_0.h5\u001b[0m*   \u001b[01;32m461_0.h5\u001b[0m*  \u001b[01;32m85_1.h5\u001b[0m*\n",
      "\u001b[01;32m144_0.h5\u001b[0m*  \u001b[01;32m209_0.h5\u001b[0m*  \u001b[01;32m271_0.h5\u001b[0m*  \u001b[01;32m336_0.h5\u001b[0m*  \u001b[01;32m3_0.h5\u001b[0m*    \u001b[01;32m462_0.h5\u001b[0m*  \u001b[01;32m85_2.h5\u001b[0m*\n",
      "\u001b[01;32m145_0.h5\u001b[0m*  \u001b[01;32m20_0.h5\u001b[0m*   \u001b[01;32m272_0.h5\u001b[0m*  \u001b[01;32m337_0.h5\u001b[0m*  \u001b[01;32m400_0.h5\u001b[0m*  \u001b[01;32m463_0.h5\u001b[0m*  \u001b[01;32m86_0.h5\u001b[0m*\n",
      "\u001b[01;32m146_0.h5\u001b[0m*  \u001b[01;32m210_0.h5\u001b[0m*  \u001b[01;32m273_0.h5\u001b[0m*  \u001b[01;32m338_0.h5\u001b[0m*  \u001b[01;32m401_0.h5\u001b[0m*  \u001b[01;32m464_0.h5\u001b[0m*  \u001b[01;32m87_0.h5\u001b[0m*\n",
      "\u001b[01;32m147_0.h5\u001b[0m*  \u001b[01;32m211_0.h5\u001b[0m*  \u001b[01;32m274_0.h5\u001b[0m*  \u001b[01;32m339_0.h5\u001b[0m*  \u001b[01;32m402_0.h5\u001b[0m*  \u001b[01;32m465_0.h5\u001b[0m*  \u001b[01;32m88_0.h5\u001b[0m*\n",
      "\u001b[01;32m148_0.h5\u001b[0m*  \u001b[01;32m212_0.h5\u001b[0m*  \u001b[01;32m275_0.h5\u001b[0m*  \u001b[01;32m33_0.h5\u001b[0m*   \u001b[01;32m403_0.h5\u001b[0m*  \u001b[01;32m466_0.h5\u001b[0m*  \u001b[01;32m89_0.h5\u001b[0m*\n",
      "\u001b[01;32m149_0.h5\u001b[0m*  \u001b[01;32m213_0.h5\u001b[0m*  \u001b[01;32m276_0.h5\u001b[0m*  \u001b[01;32m340_0.h5\u001b[0m*  \u001b[01;32m404_0.h5\u001b[0m*  \u001b[01;32m467_0.h5\u001b[0m*  \u001b[01;32m8_0.h5\u001b[0m*\n",
      "\u001b[01;32m14_0.h5\u001b[0m*   \u001b[01;32m214_0.h5\u001b[0m*  \u001b[01;32m277_0.h5\u001b[0m*  \u001b[01;32m341_0.h5\u001b[0m*  \u001b[01;32m405_0.h5\u001b[0m*  \u001b[01;32m468_0.h5\u001b[0m*  \u001b[01;32m90_0.h5\u001b[0m*\n",
      "\u001b[01;32m150_0.h5\u001b[0m*  \u001b[01;32m215_0.h5\u001b[0m*  \u001b[01;32m278_0.h5\u001b[0m*  \u001b[01;32m342_0.h5\u001b[0m*  \u001b[01;32m406_0.h5\u001b[0m*  \u001b[01;32m469_0.h5\u001b[0m*  \u001b[01;32m91_0.h5\u001b[0m*\n",
      "\u001b[01;32m151_0.h5\u001b[0m*  \u001b[01;32m216_0.h5\u001b[0m*  \u001b[01;32m279_0.h5\u001b[0m*  \u001b[01;32m343_0.h5\u001b[0m*  \u001b[01;32m407_0.h5\u001b[0m*  \u001b[01;32m46_0.h5\u001b[0m*   \u001b[01;32m92_0.h5\u001b[0m*\n",
      "\u001b[01;32m152_0.h5\u001b[0m*  \u001b[01;32m217_0.h5\u001b[0m*  \u001b[01;32m27_0.h5\u001b[0m*   \u001b[01;32m344_0.h5\u001b[0m*  \u001b[01;32m408_0.h5\u001b[0m*  \u001b[01;32m470_0.h5\u001b[0m*  \u001b[01;32m93_0.h5\u001b[0m*\n",
      "\u001b[01;32m153_0.h5\u001b[0m*  \u001b[01;32m218_0.h5\u001b[0m*  \u001b[01;32m280_0.h5\u001b[0m*  \u001b[01;32m345_0.h5\u001b[0m*  \u001b[01;32m409_0.h5\u001b[0m*  \u001b[01;32m471_0.h5\u001b[0m*  \u001b[01;32m94_0.h5\u001b[0m*\n",
      "\u001b[01;32m154_0.h5\u001b[0m*  \u001b[01;32m219_0.h5\u001b[0m*  \u001b[01;32m281_0.h5\u001b[0m*  \u001b[01;32m346_0.h5\u001b[0m*  \u001b[01;32m40_0.h5\u001b[0m*   \u001b[01;32m472_0.h5\u001b[0m*  \u001b[01;32m95_0.h5\u001b[0m*\n",
      "\u001b[01;32m155_0.h5\u001b[0m*  \u001b[01;32m21_0.h5\u001b[0m*   \u001b[01;32m282_0.h5\u001b[0m*  \u001b[01;32m347_0.h5\u001b[0m*  \u001b[01;32m410_0.h5\u001b[0m*  \u001b[01;32m473_0.h5\u001b[0m*  \u001b[01;32m96_0.h5\u001b[0m*\n",
      "\u001b[01;32m156_0.h5\u001b[0m*  \u001b[01;32m220_0.h5\u001b[0m*  \u001b[01;32m283_0.h5\u001b[0m*  \u001b[01;32m348_0.h5\u001b[0m*  \u001b[01;32m411_0.h5\u001b[0m*  \u001b[01;32m474_0.h5\u001b[0m*  \u001b[01;32m97_0.h5\u001b[0m*\n",
      "\u001b[01;32m157_0.h5\u001b[0m*  \u001b[01;32m221_0.h5\u001b[0m*  \u001b[01;32m284_0.h5\u001b[0m*  \u001b[01;32m349_0.h5\u001b[0m*  \u001b[01;32m412_0.h5\u001b[0m*  \u001b[01;32m475_0.h5\u001b[0m*  \u001b[01;32m98_0.h5\u001b[0m*\n",
      "\u001b[01;32m158_0.h5\u001b[0m*  \u001b[01;32m222_0.h5\u001b[0m*  \u001b[01;32m285_0.h5\u001b[0m*  \u001b[01;32m34_0.h5\u001b[0m*   \u001b[01;32m413_0.h5\u001b[0m*  \u001b[01;32m476_0.h5\u001b[0m*  \u001b[01;32m99_0.h5\u001b[0m*\n",
      "\u001b[01;32m159_0.h5\u001b[0m*  \u001b[01;32m223_0.h5\u001b[0m*  \u001b[01;32m286_0.h5\u001b[0m*  \u001b[01;32m350_0.h5\u001b[0m*  \u001b[01;32m414_0.h5\u001b[0m*  \u001b[01;32m477_0.h5\u001b[0m*  \u001b[01;32m9_0.h5\u001b[0m*\n",
      "\u001b[01;32m15_0.h5\u001b[0m*   \u001b[01;32m224_0.h5\u001b[0m*  \u001b[01;32m287_0.h5\u001b[0m*  \u001b[01;32m351_0.h5\u001b[0m*  \u001b[01;32m415_0.h5\u001b[0m*  \u001b[01;32m478_0.h5\u001b[0m*\n",
      "\u001b[01;32m160_0.h5\u001b[0m*  \u001b[01;32m225_0.h5\u001b[0m*  \u001b[01;32m288_0.h5\u001b[0m*  \u001b[01;32m352_0.h5\u001b[0m*  \u001b[01;32m416_0.h5\u001b[0m*  \u001b[01;32m479_0.h5\u001b[0m*\n",
      "\u001b[01;32m161_0.h5\u001b[0m*  \u001b[01;32m226_0.h5\u001b[0m*  \u001b[01;32m289_0.h5\u001b[0m*  \u001b[01;32m353_0.h5\u001b[0m*  \u001b[01;32m417_0.h5\u001b[0m*  \u001b[01;32m47_0.h5\u001b[0m*\n",
      "\u001b[01;32m162_0.h5\u001b[0m*  \u001b[01;32m227_0.h5\u001b[0m*  \u001b[01;32m28_0.h5\u001b[0m*   \u001b[01;32m354_0.h5\u001b[0m*  \u001b[01;32m418_0.h5\u001b[0m*  \u001b[01;32m480_0.h5\u001b[0m*\n",
      "\u001b[01;32m163_0.h5\u001b[0m*  \u001b[01;32m228_0.h5\u001b[0m*  \u001b[01;32m290_0.h5\u001b[0m*  \u001b[01;32m355_0.h5\u001b[0m*  \u001b[01;32m419_0.h5\u001b[0m*  \u001b[01;32m481_0.h5\u001b[0m*\n",
      "\u001b[01;32m164_0.h5\u001b[0m*  \u001b[01;32m229_0.h5\u001b[0m*  \u001b[01;32m291_0.h5\u001b[0m*  \u001b[01;32m356_0.h5\u001b[0m*  \u001b[01;32m41_0.h5\u001b[0m*   \u001b[01;32m482_0.h5\u001b[0m*\n"
     ]
    }
   ],
   "source": [
    "%ls ../gameboyprep/data/longplay_h5_files/"
   ]
  },
  {
   "cell_type": "code",
   "execution_count": 3,
   "metadata": {},
   "outputs": [],
   "source": [
    "dataset = VideoFrameDataset(\n",
    "    h5_dir='../gameboyprep/data/longplay_h5_files/',\n",
    "    # selected_longplay_ids=[238, 247, 289] # Pokemon Green, Pokemon Blue, Pokemon Red\n",
    "    # selected_longplay_ids=[0, 100, 101]\n",
    ")\n",
    "# dataset = VideoFrameDataset(\n",
    "#     h5_dir='VideoGen/data/longplay_h5_files',\n",
    "#     selected_longplay_ids=[0, 100, 101, 102, 103]\n",
    "# )"
   ]
  },
  {
   "cell_type": "code",
   "execution_count": 4,
   "metadata": {},
   "outputs": [
    {
     "data": {
      "text/plain": [
       "97909785"
      ]
     },
     "execution_count": 4,
     "metadata": {},
     "output_type": "execute_result"
    }
   ],
   "source": [
    "len(dataset)"
   ]
  },
  {
   "cell_type": "code",
   "execution_count": 5,
   "metadata": {},
   "outputs": [],
   "source": [
    "dataloader = DataLoader(dataset, batch_size=512, num_workers=4, shuffle=True, worker_init_fn=worker_init_fn)"
   ]
  },
  {
   "cell_type": "code",
   "execution_count": 6,
   "metadata": {},
   "outputs": [
    {
     "name": "stdout",
     "output_type": "stream",
     "text": [
      "Frame 49271500 timing:\n",
      "  Interval lookup: 0.03ms\n",
      "  H5 read: 314.56ms\n",
      "  Reshape: 0.06ms\n",
      "  Total: 314.65ms\n",
      "Frame 45298300 timing:\n",
      "  Interval lookup: 0.04ms\n",
      "  H5 read: 335.87ms\n",
      "  Reshape: 0.05ms\n",
      "  Total: 335.97ms\n",
      "Frame 82064100 timing:\n",
      "  Interval lookup: 0.03ms\n",
      "  H5 read: 261.32ms\n",
      "  Reshape: 0.06ms\n",
      "  Total: 261.41ms\n",
      "Frame 46217400 timing:\n",
      "  Interval lookup: 0.09ms\n",
      "  H5 read: 533.00ms\n",
      "  Reshape: 0.24ms\n",
      "  Total: 533.32ms\n",
      "Frame 22938600 timing:\n",
      "  Interval lookup: 0.03ms\n",
      "  H5 read: 432.41ms\n",
      "  Reshape: 0.06ms\n",
      "  Total: 432.51ms\n",
      "Frame 14036200 timing:\n",
      "  Interval lookup: 0.04ms\n",
      "  H5 read: 649.66ms\n",
      "  Reshape: 0.07ms\n",
      "  Total: 649.77ms\n",
      "Frame 13690300 timing:\n",
      "  Interval lookup: 0.04ms\n",
      "  H5 read: 317.29ms\n",
      "  Reshape: 0.06ms\n",
      "  Total: 317.40ms\n",
      "Frame 77663100 timing:\n",
      "  Interval lookup: 0.03ms\n",
      "  H5 read: 296.82ms\n",
      "  Reshape: 0.07ms\n",
      "  Total: 296.92ms\n",
      "Frame 53593400 timing:\n",
      "  Interval lookup: 0.04ms\n",
      "  H5 read: 299.96ms\n",
      "  Reshape: 0.07ms\n",
      "  Total: 300.08ms\n",
      "Frame 24726300 timing:\n",
      "  Interval lookup: 0.03ms\n",
      "  H5 read: 340.24ms\n",
      "  Reshape: 0.06ms\n",
      "  Total: 340.34ms\n",
      "Frame 48361500 timing:\n",
      "  Interval lookup: 0.04ms\n",
      "  H5 read: 392.19ms\n",
      "  Reshape: 0.71ms\n",
      "  Total: 392.94ms\n",
      "Frame 73164600 timing:\n",
      "  Interval lookup: 0.04ms\n",
      "  H5 read: 296.18ms\n",
      "  Reshape: 0.07ms\n",
      "  Total: 296.30ms\n",
      "Frame 74616400 timing:\n",
      "  Interval lookup: 0.03ms\n",
      "  H5 read: 193.81ms\n",
      "  Reshape: 0.06ms\n",
      "  Total: 193.91ms\n",
      "Frame 8416100 timing:\n",
      "  Interval lookup: 0.03ms\n",
      "  H5 read: 320.76ms\n",
      "  Reshape: 0.07ms\n",
      "  Total: 320.87ms\n",
      "Frame 54204500 timing:\n",
      "  Interval lookup: 0.04ms\n",
      "  H5 read: 288.63ms\n",
      "  Reshape: 0.07ms\n",
      "  Total: 288.73ms\n",
      "Frame 40633300 timing:\n",
      "  Interval lookup: 0.03ms\n",
      "  H5 read: 243.63ms\n",
      "  Reshape: 0.07ms\n",
      "  Total: 243.74ms\n",
      "Frame 54340500 timing:\n",
      "  Interval lookup: 0.04ms\n",
      "  H5 read: 257.34ms\n",
      "  Reshape: 0.06ms\n",
      "  Total: 257.44ms\n",
      "Frame 57932400 timing:\n",
      "  Interval lookup: 0.04ms\n",
      "  H5 read: 287.29ms\n",
      "  Reshape: 0.06ms\n",
      "  Total: 287.39ms\n",
      "Frame 63205900 timing:\n",
      "  Interval lookup: 0.04ms\n",
      "  H5 read: 220.19ms\n",
      "  Reshape: 0.13ms\n",
      "  Total: 220.36ms\n",
      "Frame 25230600 timing:\n",
      "  Interval lookup: 0.03ms\n",
      "  H5 read: 159.52ms\n",
      "  Reshape: 0.07ms\n",
      "  Total: 159.63ms\n",
      "Frame 88833400 timing:\n",
      "  Interval lookup: 0.03ms\n",
      "  H5 read: 339.69ms\n",
      "  Reshape: 0.06ms\n",
      "  Total: 339.79ms\n",
      "Frame 8980200 timing:\n",
      "  Interval lookup: 0.03ms\n",
      "  H5 read: 352.78ms\n",
      "  Reshape: 0.06ms\n",
      "  Total: 352.88ms\n",
      "Frame 34477900 timing:\n",
      "  Interval lookup: 0.03ms\n",
      "  H5 read: 219.41ms\n",
      "  Reshape: 0.06ms\n",
      "  Total: 219.51ms\n",
      "Frame 85555400 timing:\n",
      "  Interval lookup: 0.04ms\n",
      "  H5 read: 228.02ms\n",
      "  Reshape: 0.07ms\n",
      "  Total: 228.13ms\n",
      "Frame 43792200 timing:\n",
      "  Interval lookup: 0.03ms\n",
      "  H5 read: 316.76ms\n",
      "  Reshape: 0.06ms\n",
      "  Total: 316.86ms\n"
     ]
    }
   ],
   "source": [
    "batch = next(iter(dataloader))"
   ]
  },
  {
   "cell_type": "code",
   "execution_count": 10,
   "metadata": {},
   "outputs": [
    {
     "data": {
      "text/plain": [
       "torch.Size([512, 1, 256, 256])"
      ]
     },
     "execution_count": 10,
     "metadata": {},
     "output_type": "execute_result"
    }
   ],
   "source": [
    "batch.shape"
   ]
  },
  {
   "cell_type": "code",
   "execution_count": 22,
   "metadata": {},
   "outputs": [
    {
     "data": {
      "text/plain": [
       "<matplotlib.image.AxesImage at 0x7fb48b4fd960>"
      ]
     },
     "execution_count": 22,
     "metadata": {},
     "output_type": "execute_result"
    },
    {
     "data": {
      "image/png": "[encoded data removed]",
      "text/plain": [
       "<Figure size 640x480 with 1 Axes>"
      ]
     },
     "metadata": {},
     "output_type": "display_data"
    }
   ],
   "source": [
    "import matplotlib.pyplot as plt\n",
    "plt.imshow(batch[246].squeeze(0), cmap='gray')"
   ]
  },
  {
   "cell_type": "code",
   "execution_count": 12,
   "metadata": {},
   "outputs": [],
   "source": [
    "import h5py\n",
    "def detailed_chunk_info(file_path):\n",
    "    with h5py.File(file_path, 'r') as f:\n",
    "        dataset = f['video_frames']\n",
    "        \n",
    "        print(\"Dataset properties:\")\n",
    "        print(f\"- Chunks enabled: {dataset.chunks is not None}\")\n",
    "        print(f\"- Chunk shape: {dataset.chunks}\")\n",
    "        print(f\"- Compression: {dataset.compression}\")\n",
    "        print(f\"- Compression opts: {dataset.compression_opts}\")"
   ]
  },
  {
   "cell_type": "code",
   "execution_count": 13,
   "metadata": {},
   "outputs": [
    {
     "name": "stdout",
     "output_type": "stream",
     "text": [
      "Dataset properties:\n",
      "- Chunks enabled: True\n",
      "- Chunk shape: (1, 256, 256, 1)\n",
      "- Compression: gzip\n",
      "- Compression opts: 4\n"
     ]
    }
   ],
   "source": [
    "detailed_chunk_info('../gameboyprep/data/longplay_h5_files/238_0.h5')"
   ]
  },
  {
   "cell_type": "code",
   "execution_count": null,
   "metadata": {},
   "outputs": [],
   "source": [
    "detailed_chunk_info()"
   ]
  }
 ],
 "metadata": {
  "language_info": {
   "name": "python"
  }
 },
 "nbformat": 4,
 "nbformat_minor": 2
}
