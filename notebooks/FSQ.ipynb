{
  "cells": [
    {
      "cell_type": "code",
      "execution_count": 18,
      "metadata": {
        "id": "oiMtbbTAKpOP"
      },
      "outputs": [],
      "source": [
        "import numpy as np\n",
        "import matplotlib.pyplot as plt\n",
        "\n",
        "def simplified_bound(z, L):\n",
        "    eps = 1e-3\n",
        "    half_l = (L - 1) * (1 - eps) / 2\n",
        "    offset = 0.5 if L % 2 == 0 else 0.0\n",
        "    shift = np.tan(offset / half_l)\n",
        "    z_hat = np.tanh(z + shift) * half_l - offset\n",
        "    quantized = round_ste(z_hat)\n",
        "\n",
        "    half_width = L // 2\n",
        "    return quantized / half_width\n",
        "\n",
        "def simplified_bound_no_shift(z, L):\n",
        "    eps = 1e-3\n",
        "    half_l = (L - 1) * (1 - eps) / 2\n",
        "    offset = 0.5 if L % 2 == 0 else 0.0\n",
        "    z_hat = np.tanh(z) * half_l - offset\n",
        "    quantized = round_ste(z_hat)\n",
        "\n",
        "    half_width = L // 2\n",
        "    return quantized / half_width\n",
        "\n",
        "def simplified_bound_no_shift_no_offset(z, L):\n",
        "    eps = 1e-3\n",
        "    half_l = (L - 1) * (1 - eps) / 2\n",
        "    z_hat = np.tanh(z) * half_l\n",
        "\n",
        "def simplified_bound_no_shift_no_offset_no_eps(z, L):\n",
        "    half_l = (L - 1) / 2\n",
        "    z_hat = np.tanh(z) * half_l\n",
        "\n",
        "def simplified_bound_no_shift_no_offset_no_scale(z, L):\n",
        "    z_hat = np.tanh(z)\n",
        "\n",
        "def round_ste(z):\n",
        "    z_hat = np.round(z)\n",
        "    return z_hat"
      ]
    },
    {
      "cell_type": "code",
      "execution_count": null,
      "metadata": {
        "colab": {
          "base_uri": "https://localhost:8080/",
          "height": 564
        },
        "id": "AbNI3D8vKu5o",
        "outputId": "74a60c3e-f6b0-4591-92bd-4fe4c9dbc5c5"
      },
      "outputs": [],
      "source": [
        "z = np.linspace(-3, 3, 1000)\n",
        "\n",
        "z_bound_even = simplified_bound(z, 4)\n",
        "z_bound_even_no_shift = simplified_bound_no_shift(z, 4)\n",
        "z_bound_even_no_shift_no_offset = simplified_bound_no_shift_no_offset(z, 4)\n",
        "z_bound_even_no_shift_no_offset_no_scale = simplified_bound_no_shift_no_offset_no_scale(z, 4)\n",
        "\n",
        "z_bound_even_no_shift_rounded = z_bound_even_no_shift\n",
        "z_bound_even_rounded = z_bound_even\n",
        "\n",
        "plt.figure(figsize=(10, 6))\n",
        "\n",
        "# plt.plot(z, z_bound_even_no_shift_no_offset_no_scale, label='Step 1: Bound Function, L=4 (tanh w/ eps)', color='purple', linestyle='--')\n",
        "# plt.plot(z, z_bound_even_no_shift_no_offset, label='Step 2: Bound Function, L=4 (tanh + scale)', color='red', linestyle='--')\n",
        "plt.plot(z, z_bound_even_no_shift, label='Step 3: Bound Function, L=4 (tanh + scale + offset)', color='gold', linestyle='--')\n",
        "plt.plot(z, z_bound_even, label='Step 4: Bound Function, L=4 (tanh + scale + offset + shift)', color='green')\n",
        "plt.plot(z, z_bound_even_rounded, label='Step 5: Round', color='black')\n",
        "plt.plot(z, z_bound_even_no_shift_rounded, label='Step 5: Round (No Shift)', color='grey', linestyle='--')\n",
        "\n",
        "# Adding the title, labels, and legend\n",
        "plt.title('Effect of Bound Function for Even L')\n",
        "plt.xlabel('Input z')\n",
        "plt.ylabel('Transformed z')\n",
        "plt.legend()\n",
        "\n",
        "# Adding grid for better readability\n",
        "plt.grid(True)\n",
        "\n",
        "# Display the combined graph\n",
        "plt.show()"
      ]
    },
    {
      "cell_type": "code",
      "execution_count": null,
      "metadata": {
        "colab": {
          "base_uri": "https://localhost:8080/",
          "height": 564
        },
        "id": "1EZMG923KyeW",
        "outputId": "0606f814-ff81-4434-d580-d4ed8a6fc6cf"
      },
      "outputs": [],
      "source": [
        "z_bound_odd = simplified_bound(z, 5)\n",
        "\n",
        "plt.figure(figsize=(10, 6))\n",
        "plt.plot(z, z_bound_odd, label='Bound Function, L=5 (Odd)')\n",
        "plt.title('Effect of Bound Function for Odd L')\n",
        "plt.xlabel('Input z')\n",
        "plt.ylabel('Transformed z')\n",
        "plt.legend()\n",
        "plt.grid(True)\n",
        "plt.show()"
      ]
    }
  ],
  "metadata": {
    "colab": {
      "provenance": []
    },
    "kernelspec": {
      "display_name": "Python 3",
      "name": "python3"
    },
    "language_info": {
      "name": "python",
      "version": "3.9.0"
    }
  },
  "nbformat": 4,
  "nbformat_minor": 0
}
