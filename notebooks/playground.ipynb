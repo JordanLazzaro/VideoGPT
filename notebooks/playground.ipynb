{
 "cells": [
  {
   "cell_type": "code",
   "execution_count": 1,
   "metadata": {},
   "outputs": [],
   "source": [
    "import matplotlib.pyplot as plt\n",
    "from matplotlib.animation import FuncAnimation\n",
    "from IPython.display import display, HTML"
   ]
  },
  {
   "cell_type": "code",
   "execution_count": 2,
   "metadata": {},
   "outputs": [],
   "source": [
    "def display_clip(clip):\n",
    "    '''\n",
    "    util method for displaying tensors as video\n",
    "\n",
    "    expects clip.shape = (C,T,H,W)\n",
    "    '''\n",
    "    assert len(clip.shape) == 4, 'clip shape must be PyTorch Tensor of shape (C,T,H,W)'\n",
    "\n",
    "    def update(frame_idx):\n",
    "        ax.clear()\n",
    "        ax.imshow(video_clip_np[frame_idx], cmap='gray')\n",
    "        ax.axis('off')\n",
    "\n",
    "    video_clip_np = clip.permute(1, 2, 3, 0).numpy()\n",
    "    fig, ax = plt.subplots()\n",
    "    ani = FuncAnimation(fig, update, frames=range(video_clip_np.shape[0]), interval=60)\n",
    "    plt.close()\n",
    "    display(HTML(ani.to_html5_video()))"
   ]
  },
  {
   "cell_type": "code",
   "execution_count": 3,
   "metadata": {},
   "outputs": [],
   "source": [
    "import yaml\n",
    "from videogen.config import Config\n",
    "from videogen.data.litdataset import LitDataModule\n",
    "\n",
    "with open('VideoGen/config/models/vanilla_fsq_vae_config.yaml', 'r') as f:\n",
    "        model_config = yaml.safe_load(f)\n",
    "\n",
    "with open('VideoGen/config/data/steamboat-willie.yaml', 'r') as f:\n",
    "        data_config = yaml.safe_load(f)\n",
    "\n",
    "data_config = Config(data_config)\n",
    "model_config = Config(model_config)"
   ]
  },
  {
   "cell_type": "code",
   "execution_count": 4,
   "metadata": {},
   "outputs": [],
   "source": [
    "data = LitDataModule(model_config=model_config, data_config=data_config)\n",
    "data.setup()"
   ]
  },
  {
   "cell_type": "code",
   "execution_count": 5,
   "metadata": {},
   "outputs": [],
   "source": [
    "train_loader = data.train_dataloader()"
   ]
  },
  {
   "cell_type": "code",
   "execution_count": 6,
   "metadata": {},
   "outputs": [
    {
     "data": {
      "text/plain": [
       "35"
      ]
     },
     "execution_count": 6,
     "metadata": {},
     "output_type": "execute_result"
    }
   ],
   "source": [
    "len(train_loader)"
   ]
  },
  {
   "cell_type": "code",
   "execution_count": 8,
   "metadata": {},
   "outputs": [
    {
     "name": "stdout",
     "output_type": "stream",
     "text": [
      "555\n"
     ]
    }
   ],
   "source": [
    "print(len(data.train_dataset))"
   ]
  }
 ],
 "metadata": {
  "kernelspec": {
   "display_name": "Python 3",
   "language": "python",
   "name": "python3"
  },
  "language_info": {
   "codemirror_mode": {
    "name": "ipython",
    "version": 3
   },
   "file_extension": ".py",
   "mimetype": "text/x-python",
   "name": "python",
   "nbconvert_exporter": "python",
   "pygments_lexer": "ipython3",
   "version": "3.10.12"
  }
 },
 "nbformat": 4,
 "nbformat_minor": 2
}
